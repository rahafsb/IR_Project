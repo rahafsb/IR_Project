{
 "cells": [
  {
   "cell_type": "code",
   "execution_count": 1,
   "id": "5ac36d3a",
   "metadata": {
    "id": "5ac36d3a",
    "nbgrader": {
     "grade": false,
     "grade_id": "cell-Worker_Count",
     "locked": true,
     "schema_version": 3,
     "solution": false,
     "task": false
    },
    "outputId": "cf88b954-f39a-412a-d87e-660833e735b6"
   },
   "outputs": [
    {
     "name": "stdout",
     "output_type": "stream",
     "text": [
      "NAME          PLATFORM  PRIMARY_WORKER_COUNT  SECONDARY_WORKER_COUNT  STATUS   ZONE           SCHEDULED_DELETE\r\n",
      "cluster-6137  GCE       2                                             RUNNING  us-central1-a\r\n"
     ]
    }
   ],
   "source": [
    "# if the following command generates an error, you probably didn't enable\n",
    "# the cluster security option \"Allow API access to all Google Cloud services\"\n",
    "# under Manage Security → Project Access when setting up the cluster\n",
    "!gcloud dataproc clusters list --region us-central1"
   ]
  },
  {
   "cell_type": "markdown",
   "id": "51cf86c5",
   "metadata": {
    "id": "51cf86c5"
   },
   "source": [
    "# Imports & Setup"
   ]
  },
  {
   "cell_type": "code",
   "execution_count": 2,
   "id": "bf199e6a",
   "metadata": {
    "id": "bf199e6a",
    "nbgrader": {
     "grade": false,
     "grade_id": "cell-Setup",
     "locked": true,
     "schema_version": 3,
     "solution": false,
     "task": false
    },
    "outputId": "fc0e315d-21e9-411d-d69c-5b97e4e5d629",
    "scrolled": true
   },
   "outputs": [
    {
     "name": "stdout",
     "output_type": "stream",
     "text": [
      "\u001B[33mWARNING: Running pip as the 'root' user can result in broken permissions and conflicting behaviour with the system package manager. It is recommended to use a virtual environment instead: https://pip.pypa.io/warnings/venv\u001B[0m\u001B[33m\n",
      "\u001B[0m\u001B[33mWARNING: Running pip as the 'root' user can result in broken permissions and conflicting behaviour with the system package manager. It is recommended to use a virtual environment instead: https://pip.pypa.io/warnings/venv\u001B[0m\u001B[33m\n",
      "\u001B[0m"
     ]
    }
   ],
   "source": [
    "!pip install -q google-cloud-storage==1.43.0\n",
    "!pip install -q graphframes"
   ]
  },
  {
   "cell_type": "code",
   "execution_count": 3,
   "id": "d8f56ecd",
   "metadata": {
    "id": "d8f56ecd",
    "nbgrader": {
     "grade": false,
     "grade_id": "cell-Imports",
     "locked": true,
     "schema_version": 3,
     "solution": false,
     "task": false
    },
    "outputId": "a24aa24b-aa75-4823-83ca-1d7deef0f0de"
   },
   "outputs": [
    {
     "name": "stderr",
     "output_type": "stream",
     "text": [
      "[nltk_data] Downloading package stopwords to /root/nltk_data...\n",
      "[nltk_data]   Unzipping corpora/stopwords.zip.\n"
     ]
    },
    {
     "data": {
      "text/plain": [
       "True"
      ]
     },
     "execution_count": 3,
     "metadata": {},
     "output_type": "execute_result"
    }
   ],
   "source": [
    "import pyspark\n",
    "import sys\n",
    "from collections import Counter, OrderedDict, defaultdict\n",
    "import itertools\n",
    "from itertools import islice, count, groupby\n",
    "import pandas as pd\n",
    "import os\n",
    "import re\n",
    "from operator import itemgetter\n",
    "import nltk\n",
    "from nltk.stem.porter import *\n",
    "from nltk.corpus import stopwords\n",
    "from time import time\n",
    "from pathlib import Path\n",
    "import pickle\n",
    "import pandas as pd\n",
    "from google.cloud import storage\n",
    "import json\n",
    "\n",
    "import hashlib\n",
    "def _hash(s):\n",
    "    return hashlib.blake2b(bytes(s, encoding='utf8'), digest_size=5).hexdigest()\n",
    "\n",
    "nltk.download('stopwords')"
   ]
  },
  {
   "cell_type": "code",
   "execution_count": 4,
   "id": "38a897f2",
   "metadata": {
    "id": "38a897f2",
    "nbgrader": {
     "grade": false,
     "grade_id": "cell-jar",
     "locked": true,
     "schema_version": 3,
     "solution": false,
     "task": false
    },
    "outputId": "8f93a7ec-71e0-49c1-fc81-9af385849a90"
   },
   "outputs": [
    {
     "name": "stdout",
     "output_type": "stream",
     "text": [
      "-rw-r--r-- 1 root root 247882 Mar 10 11:35 /usr/lib/spark/jars/graphframes-0.8.2-spark3.1-s_2.12.jar\r\n"
     ]
    }
   ],
   "source": [
    "# if nothing prints here you forgot to include the initialization script when starting the cluster\n",
    "!ls -l /usr/lib/spark/jars/graph*"
   ]
  },
  {
   "cell_type": "code",
   "execution_count": 5,
   "id": "47900073",
   "metadata": {
    "id": "47900073",
    "nbgrader": {
     "grade": false,
     "grade_id": "cell-pyspark-import",
     "locked": true,
     "schema_version": 3,
     "solution": false,
     "task": false
    }
   },
   "outputs": [],
   "source": [
    "from pyspark.sql import *\n",
    "from pyspark.sql.functions import *\n",
    "from pyspark import SparkContext, SparkConf, SparkFiles\n",
    "from pyspark.sql import SQLContext\n",
    "from graphframes import *"
   ]
  },
  {
   "cell_type": "code",
   "execution_count": 6,
   "id": "72bed56b",
   "metadata": {
    "id": "72bed56b",
    "nbgrader": {
     "grade": false,
     "grade_id": "cell-spark-version",
     "locked": true,
     "schema_version": 3,
     "solution": false,
     "task": false
    },
    "outputId": "07b4e22b-a252-42fb-fe46-d9050e4e7ca8",
    "scrolled": true
   },
   "outputs": [
    {
     "data": {
      "text/html": [
       "\n",
       "            <div>\n",
       "                <p><b>SparkSession - hive</b></p>\n",
       "                \n",
       "        <div>\n",
       "            <p><b>SparkContext</b></p>\n",
       "\n",
       "            <p><a href=\"http://cluster-6137-m.c.e7zor3.internal:44673\">Spark UI</a></p>\n",
       "\n",
       "            <dl>\n",
       "              <dt>Version</dt>\n",
       "                <dd><code>v3.3.2</code></dd>\n",
       "              <dt>Master</dt>\n",
       "                <dd><code>yarn</code></dd>\n",
       "              <dt>AppName</dt>\n",
       "                <dd><code>PySparkShell</code></dd>\n",
       "            </dl>\n",
       "        </div>\n",
       "        \n",
       "            </div>\n",
       "        "
      ],
      "text/plain": [
       "<pyspark.sql.session.SparkSession at 0x7fb79fee8760>"
      ]
     },
     "execution_count": 6,
     "metadata": {},
     "output_type": "execute_result"
    }
   ],
   "source": [
    "spark"
   ]
  },
  {
   "cell_type": "code",
   "execution_count": 7,
   "id": "980e62a5",
   "metadata": {
    "id": "980e62a5",
    "nbgrader": {
     "grade": false,
     "grade_id": "cell-bucket_name",
     "locked": false,
     "schema_version": 3,
     "solution": true,
     "task": false
    }
   },
   "outputs": [],
   "source": [
    "# Put your bucket name below and make sure you can access it without an error\n",
    "bucket_name = '209092196_212080188_209318666'\n",
    "full_path = f\"gs://{bucket_name}/\"\n",
    "paths=[]\n",
    "\n",
    "client = storage.Client()\n",
    "blobs = client.list_blobs(bucket_name)\n",
    "for b in blobs:\n",
    "    if b.name != 'graphframes.sh':\n",
    "        paths.append(full_path+b.name)"
   ]
  },
  {
   "cell_type": "markdown",
   "id": "cac891c2",
   "metadata": {
    "id": "cac891c2"
   },
   "source": [
    "***GCP setup is complete!*** If you got here without any errors you've earned 10 out of the 35 points of this part."
   ]
  },
  {
   "cell_type": "markdown",
   "id": "582c3f5e",
   "metadata": {
    "id": "582c3f5e"
   },
   "source": [
    "# Building an inverted index"
   ]
  },
  {
   "cell_type": "markdown",
   "id": "481f2044",
   "metadata": {
    "id": "481f2044"
   },
   "source": [
    "Here, we read the entire corpus to an rdd, directly from Google Storage Bucket and use your code from Colab to construct an inverted index."
   ]
  },
  {
   "cell_type": "code",
   "execution_count": 8,
   "id": "e4c523e7",
   "metadata": {
    "id": "e4c523e7",
    "outputId": "f1ccd526-1ee3-4825-c2dd-af89e0799a65",
    "scrolled": false
   },
   "outputs": [
    {
     "name": "stderr",
     "output_type": "stream",
     "text": [
      "[Stage 2:======================================================>(123 + 1) / 124]\r"
     ]
    }
   ],
   "source": [
    "parquetFile = spark.read.parquet(*paths).limit(1000)\n",
    "doc_text_pairs = parquetFile.select(\"text\", \"id\").rdd"
   ]
  },
  {
   "cell_type": "markdown",
   "id": "0d7e2971",
   "metadata": {
    "id": "0d7e2971"
   },
   "source": [
    "We will count the number of pages to make sure we are looking at the entire corpus. The number of pages should be more than 6M"
   ]
  },
  {
   "cell_type": "code",
   "execution_count": 9,
   "id": "82881fbf",
   "metadata": {
    "id": "82881fbf",
    "outputId": "543be2e4-6c6f-4e8a-f947-3b6f4810d954"
   },
   "outputs": [
    {
     "name": "stderr",
     "output_type": "stream",
     "text": [
      "                                                                                \r"
     ]
    },
    {
     "data": {
      "text/plain": [
       "1000"
      ]
     },
     "execution_count": 9,
     "metadata": {},
     "output_type": "execute_result"
    }
   ],
   "source": [
    "# Count number of wiki pages\n",
    "parquetFile.count()"
   ]
  },
  {
   "cell_type": "code",
   "execution_count": 10,
   "id": "121fe102",
   "metadata": {
    "id": "121fe102",
    "outputId": "327fe81b-80f4-4b3a-8894-e74720d92e35"
   },
   "outputs": [
    {
     "name": "stdout",
     "output_type": "stream",
     "text": [
      "inverted_index_gcp.py\r\n"
     ]
    }
   ],
   "source": [
    "# if nothing prints here you forgot to upload the file inverted_index_gcp.py to the home dir\n",
    "%cd -q /home/dataproc\n",
    "!ls inverted_index_gcp.py"
   ]
  },
  {
   "cell_type": "code",
   "execution_count": 11,
   "id": "57c101a8",
   "metadata": {
    "id": "57c101a8",
    "scrolled": true
   },
   "outputs": [],
   "source": [
    "# adding our python module to the cluster\n",
    "sc.addFile(\"/home/dataproc/inverted_index_gcp.py\")\n",
    "sys.path.insert(0,SparkFiles.getRootDirectory())"
   ]
  },
  {
   "cell_type": "code",
   "execution_count": 12,
   "id": "c259c402",
   "metadata": {
    "id": "c259c402"
   },
   "outputs": [],
   "source": [
    "from inverted_index_gcp import InvertedIndex"
   ]
  },
  {
   "cell_type": "code",
   "execution_count": 13,
   "id": "f3ad8fea",
   "metadata": {
    "id": "f3ad8fea",
    "nbgrader": {
     "grade": false,
     "grade_id": "cell-token2bucket",
     "locked": false,
     "schema_version": 3,
     "solution": true,
     "task": false
    }
   },
   "outputs": [],
   "source": [
    "english_stopwords = frozenset(stopwords.words('english'))\n",
    "corpus_stopwords = [\"category\", \"references\", \"also\", \"external\", \"links\",\n",
    "                    \"may\", \"first\", \"see\", \"history\", \"people\", \"one\", \"two\",\n",
    "                    \"part\", \"thumb\", \"including\", \"second\", \"following\",\n",
    "                    \"many\", \"however\", \"would\", \"became\"]\n",
    "\n",
    "all_stopwords = english_stopwords.union(corpus_stopwords)\n",
    "RE_WORD = re.compile(r\"\"\"[\\#\\@\\w](['\\-]?\\w){2,24}\"\"\", re.UNICODE)\n",
    "\n",
    "NUM_BUCKETS = 124\n",
    "def token2bucket_id(token):\n",
    "    return int(_hash(token),16) % NUM_BUCKETS\n",
    "\n",
    "\n",
    "def filter_tokens(tokens, tokens2remove=None, use_stemming=True):\n",
    "    stemmer = PorterStemmer()\n",
    "    if tokens2remove is not None:\n",
    "        tokens = [tok for tok in tokens if tok not in tokens2remove]\n",
    "    if use_stemming:\n",
    "        tokens = [stemmer.stem(tok) for tok in tokens]\n",
    "    return tokens\n",
    "\n",
    "def word_count(text, id):\n",
    "    tokens = [token.group() for token in RE_WORD.finditer(text.lower())]\n",
    "    tokens = filter_tokens(tokens,all_stopwords, True)\n",
    "    freq_dict = {word: tokens.count(word) for word in tokens if word not in all_stopwords}\n",
    "    ret = [(word, (id, freq_dict[word])) for word in freq_dict.keys()]\n",
    "    return ret\n",
    "\n",
    "def word_count_anchors(id, text):\n",
    "    return word_count(tokenize_anchor(text), id)\n",
    "\n",
    "def reduce_word_counts(unsorted_pl):\n",
    "    return sorted(unsorted_pl)\n",
    "\n",
    "def calculate_df(postings):\n",
    "    return postings.mapValues(lambda posting_lst: len(posting_lst))\n",
    "\n",
    "def calculate_tf(postings):\n",
    "    return postings.flatMap(lambda x: [(x[0],len(x[1]))]).aggregateByKey(0, lambda x,y: x+y, lambda x,y: x+y)\n",
    "\n",
    "def partition_postings_and_write(postings, base_dir):\n",
    "    rdd = postings.groupBy(lambda x: token2bucket_id(x[0]))\n",
    "    return(rdd.map(lambda x: InvertedIndex.write_a_posting_list(x, base_dir, bucket_name)))\n",
    "\n",
    "\n",
    "# def partition_postings_and_write(postings):\n",
    "#     return postings.map(lambda posting: (token2bucket_id(posting[0]), [(posting[0], posting[1])])).reduceByKey(lambda x, y: x + y).map(lambda posting: InvertedIndex.write_a_posting_list(posting,\"postings_gcp/\"\n",
    "# ,bucket_name))\n",
    "\n",
    "def get_docs_length(postings):\n",
    "    return postings.flatMap(lambda x:[(curr_id,count) for curr_id,count in x[1]]).aggregateByKey(0, lambda x,y: x+y, lambda x,y: x+y)\n",
    "\n",
    "\n",
    "def tokenize_anchor(anchors):\n",
    "    tokens = [token[1] for token in anchors]\n",
    "    return ' '.join(tokens)\n",
    "\n"
   ]
  },
  {
   "cell_type": "code",
   "execution_count": 16,
   "id": "sKx8I2Vnx90g",
   "metadata": {
    "id": "sKx8I2Vnx90g"
   },
   "outputs": [],
   "source": [
    "# TITLE\n",
    "docs_title_pairs = parquetFile.select(\"id\",\"title\")\n",
    "docs_title_pairs_dict = dict(docs_title_pairs.collect())\n",
    "with open(\"titles.json\", \"w\") as _json:\n",
    "    json.dump(docs_title_pairs_dict, _json)\n",
    "title_src = \"titles.json\"\n",
    "title_dst = f\"gs://{bucket_name}/titles/{title_src}\""
   ]
  },
  {
   "cell_type": "code",
   "execution_count": 17,
   "id": "SwvRtFmETfx2",
   "metadata": {
    "id": "SwvRtFmETfx2"
   },
   "outputs": [
    {
     "name": "stdout",
     "output_type": "stream",
     "text": [
      "Copying file://titles.json [Content-Type=application/json]...\n",
      "/ [1 files][ 33.0 KiB/ 33.0 KiB]                                                \n",
      "Operation completed over 1 objects/33.0 KiB.                                     \n"
     ]
    }
   ],
   "source": [
    "!gsutil cp $title_src $title_dst"
   ]
  },
  {
   "cell_type": "code",
   "execution_count": 18,
   "id": "ezWH5bmNTmaj",
   "metadata": {
    "id": "ezWH5bmNTmaj"
   },
   "outputs": [
    {
     "name": "stderr",
     "output_type": "stream",
     "text": [
      "                                                                                \r"
     ]
    }
   ],
   "source": [
    "rdd=docs_title_pairs.rdd\n",
    "word_counts_title = rdd.flatMap(lambda x: word_count(x[1], x[0]))\n",
    "postings_titles = word_counts_title.groupByKey().mapValues(reduce_word_counts)\n",
    "t2df_title = calculate_df(postings_titles).collectAsMap()\n",
    "title_length = get_docs_length(postings_titles)\n",
    "total_title = calculate_tf(postings_titles)"
   ]
  },
  {
   "cell_type": "code",
   "execution_count": 20,
   "id": "73f3f4b6",
   "metadata": {},
   "outputs": [
    {
     "name": "stderr",
     "output_type": "stream",
     "text": [
      "                                                                                \r"
     ]
    }
   ],
   "source": [
    "_ = partition_postings_and_write(postings_titles, \"titles\").collect()"
   ]
  },
  {
   "cell_type": "code",
   "execution_count": 20,
   "id": "8BmivfYuc2Eb",
   "metadata": {
    "id": "8BmivfYuc2Eb"
   },
   "outputs": [],
   "source": [
    "# collect all posting lists locations into one super-set\n",
    "titles_posting_locs = defaultdict(list)\n",
    "for blob in client.list_blobs(bucket_name, prefix='titles'):\n",
    "    if not blob.name.endswith(\"pickle\"):\n",
    "        continue\n",
    "    with blob.open(\"rb\") as f:\n",
    "        posting_locs = pickle.load(f)\n",
    "        for k, v in posting_locs.items():\n",
    "            titles_posting_locs[k].extend(v)"
   ]
  },
  {
   "cell_type": "code",
   "execution_count": 21,
   "id": "3TQjI5TKdeKw",
   "metadata": {
    "id": "3TQjI5TKdeKw"
   },
   "outputs": [],
   "source": [
    "# Create inverted index instance\n",
    "inverted = InvertedIndex()\n",
    "inverted.posting_locs = titles_posting_locs\n",
    "inverted.df = t2df_title\n",
    "inverted.doc_length = title_length.collectAsMap()\n",
    "inverted.term_total = total_title.collectAsMap()\n",
    "inverted.write_index('.', 'title_index')\n",
    "index_src = \"title_index.pkl\"\n",
    "index_dst = f'gs://{bucket_name}/titles/{index_src}'"
   ]
  },
  {
   "cell_type": "code",
   "execution_count": 22,
   "id": "WsHtmOGPgCAq",
   "metadata": {
    "id": "WsHtmOGPgCAq"
   },
   "outputs": [
    {
     "name": "stdout",
     "output_type": "stream",
     "text": [
      "Copying file://title_index.pkl [Content-Type=application/octet-stream]...\n",
      "/ [1 files][ 44.0 KiB/ 44.0 KiB]                                                \n",
      "Operation completed over 1 objects/44.0 KiB.                                     \n"
     ]
    }
   ],
   "source": [
    "!gsutil cp $index_src $index_dst"
   ]
  },
  {
   "cell_type": "code",
   "execution_count": 23,
   "id": "55c8764e",
   "metadata": {
    "id": "55c8764e",
    "nbgrader": {
     "grade": false,
     "grade_id": "cell-index_construction",
     "locked": false,
     "schema_version": 3,
     "solution": true,
     "task": false
    },
    "outputId": "daccb5a7-6dfe-47f3-d6fc-06ab685dd953"
   },
   "outputs": [
    {
     "name": "stderr",
     "output_type": "stream",
     "text": [
      "                                                                                \r"
     ]
    }
   ],
   "source": [
    "# BODY\n",
    "word_counts = doc_text_pairs.flatMap(lambda x: word_count(x[0], x[1]))\n",
    "postings = word_counts.groupByKey().mapValues(reduce_word_counts)\n",
    "postings_filtered = postings.filter(lambda x: len(x[1])>50)\n",
    "total_body = calculate_tf(postings_filtered)\n",
    "body_length = get_docs_length(postings_filtered)\n",
    "w2df = calculate_df(postings_filtered)\n",
    "w2df_dict = w2df.collectAsMap()"
   ]
  },
  {
   "cell_type": "code",
   "execution_count": 24,
   "id": "f05378bf",
   "metadata": {},
   "outputs": [
    {
     "name": "stderr",
     "output_type": "stream",
     "text": [
      "                                                                                \r"
     ]
    }
   ],
   "source": [
    "_ = partition_postings_and_write(postings_filtered, \"body\").collect()"
   ]
  },
  {
   "cell_type": "code",
   "execution_count": 25,
   "id": "ab3296f4",
   "metadata": {
    "id": "ab3296f4",
    "nbgrader": {
     "grade": true,
     "grade_id": "collect-posting",
     "locked": true,
     "points": 0,
     "schema_version": 3,
     "solution": false,
     "task": false
    }
   },
   "outputs": [],
   "source": [
    "# collect all posting lists locations into one super-set\n",
    "super_posting_locs = defaultdict(list)\n",
    "for blob in client.list_blobs(bucket_name, prefix='body'):\n",
    "    if not blob.name.endswith(\"pickle\"):\n",
    "        continue\n",
    "    with blob.open(\"rb\") as f:\n",
    "        posting_locs = pickle.load(f)\n",
    "        for k, v in posting_locs.items():\n",
    "            super_posting_locs[k].extend(v)"
   ]
  },
  {
   "cell_type": "markdown",
   "id": "f6f66e3a",
   "metadata": {
    "id": "f6f66e3a",
    "pycharm": {
     "name": "#%% md\n"
    }
   },
   "source": [
    "Putting it all together"
   ]
  },
  {
   "cell_type": "code",
   "execution_count": 26,
   "id": "a5d2cfb6",
   "metadata": {
    "id": "a5d2cfb6",
    "outputId": "91989248-8ebf-47c3-808f-4b9810a6bc88"
   },
   "outputs": [
    {
     "name": "stdout",
     "output_type": "stream",
     "text": [
      "Copying file://index.pkl [Content-Type=application/octet-stream]...\n",
      "/ [1 files][ 32.8 KiB/ 32.8 KiB]                                                \n",
      "Operation completed over 1 objects/32.8 KiB.                                     \n"
     ]
    }
   ],
   "source": [
    "# Create inverted index instance\n",
    "inverted = InvertedIndex()\n",
    "# Adding the posting locations dictionary to the inverted index\n",
    "inverted.posting_locs = super_posting_locs\n",
    "inverted.doc_length = body_length.collectAsMap()\n",
    "inverted.term_total = total_body.collectAsMap()\n",
    "# Add the token - df dictionary to the inverted index\n",
    "inverted.df = w2df_dict\n",
    "# write the global stats out\n",
    "inverted.write_index('.', 'index')\n",
    "# upload to gs\n",
    "index_src = \"index.pkl\"\n",
    "index_dst = f'gs://{bucket_name}/body/{index_src}'\n",
    "!gsutil cp $index_src $index_dst"
   ]
  },
  {
   "cell_type": "code",
   "execution_count": 27,
   "id": "8f880d59",
   "metadata": {
    "id": "8f880d59",
    "nbgrader": {
     "grade": false,
     "grade_id": "cell-index_dst_size",
     "locked": true,
     "schema_version": 3,
     "solution": false,
     "task": false
    },
    "outputId": "25cbe99b-8acf-48ac-f0b4-0a800d1d7b3b",
    "pycharm": {
     "name": "#%%\n"
    }
   },
   "outputs": [
    {
     "name": "stdout",
     "output_type": "stream",
     "text": [
      " 32.79 KiB  2024-03-10T12:07:15Z  gs://209092196_212080188_209318666/body/index.pkl\r\n",
      "TOTAL: 1 objects, 33572 bytes (32.79 KiB)\r\n"
     ]
    }
   ],
   "source": [
    "!gsutil ls -lh $index_dst"
   ]
  },
  {
   "cell_type": "markdown",
   "id": "c52dee14",
   "metadata": {
    "id": "c52dee14",
    "nbgrader": {
     "grade": false,
     "grade_id": "cell-2a6d655c112e79c5",
     "locked": true,
     "schema_version": 3,
     "solution": false,
     "task": false
    },
    "pycharm": {
     "name": "#%% md\n"
    }
   },
   "source": [
    "# PageRank"
   ]
  },
  {
   "cell_type": "code",
   "execution_count": 28,
   "id": "31a516e2",
   "metadata": {
    "id": "31a516e2",
    "pycharm": {
     "name": "#%%\n"
    }
   },
   "outputs": [],
   "source": [
    "# Put your `generate_graph` function here\n",
    "def generate_graph(pages):\n",
    "    edges = pages.flatMap(lambda page: [(page[0], link[0]) for link in page[1]])\n",
    "    edges = edges.distinct()\n",
    "    vertices_src = pages.map(lambda page: (page[0],))\n",
    "    vertices_anchr = pages.flatMap(lambda page: page[1]).map(lambda link: (link[0],))\n",
    "    vertices = vertices_src.union(vertices_anchr).distinct()\n",
    "    return edges, vertices"
   ]
  },
  {
   "cell_type": "code",
   "execution_count": 29,
   "id": "6bc05ba3",
   "metadata": {
    "id": "6bc05ba3",
    "nbgrader": {
     "grade": false,
     "grade_id": "cell-PageRank",
     "locked": false,
     "schema_version": 3,
     "solution": true,
     "task": false
    },
    "outputId": "8c0128b0-e88f-4f8d-d317-36f532119644"
   },
   "outputs": [
    {
     "name": "stderr",
     "output_type": "stream",
     "text": [
      "/usr/lib/spark/python/pyspark/sql/dataframe.py:148: UserWarning: DataFrame.sql_ctx is an internal property, and will be removed in future releases. Use DataFrame.sparkSession instead.\n",
      "  warnings.warn(\n",
      "/usr/lib/spark/python/pyspark/sql/dataframe.py:127: UserWarning: DataFrame constructor is internal. Do not directly use it.\n",
      "  warnings.warn(\"DataFrame constructor is internal. Do not directly use it.\")\n"
     ]
    }
   ],
   "source": [
    "pages_links = parquetFile.select (\"id\",\"anchor_text\").rdd\n",
    "# construct the graph\n",
    "edges, vertices = generate_graph(pages_links)\n",
    "# compute PageRank\n",
    "edgesDF = edges.toDF(['src', 'dst']).repartition(124, 'src')\n",
    "verticesDF = vertices.toDF(['id']).repartition(124, 'id')\n",
    "g = GraphFrame(verticesDF, edgesDF)\n",
    "pr_results = g.pageRank(resetProbability=0.15, maxIter=6)\n",
    "pr = pr_results.vertices.select(\"id\", \"pagerank\")\n",
    "pr = pr.sort(col('pagerank').desc())\n"
   ]
  },
  {
   "cell_type": "code",
   "execution_count": 30,
   "id": "f7717604",
   "metadata": {
    "id": "f7717604",
    "nbgrader": {
     "grade": true,
     "grade_id": "cell-PageRank_time",
     "locked": true,
     "points": 10,
     "schema_version": 3,
     "solution": false,
     "task": false
    }
   },
   "outputs": [
    {
     "name": "stderr",
     "output_type": "stream",
     "text": [
      "                                                                                \r"
     ]
    }
   ],
   "source": [
    "#check later\n",
    "pr_dict = {int(row[0]): row[1] for _, row in pr.toPandas().iterrows()}\n",
    "with open(\"pr.json\", \"w\") as pr:\n",
    "    json.dump(pr_dict, pr)"
   ]
  },
  {
   "cell_type": "code",
   "execution_count": 31,
   "id": "lHtQl3gv0bku",
   "metadata": {
    "id": "lHtQl3gv0bku"
   },
   "outputs": [
    {
     "name": "stdout",
     "output_type": "stream",
     "text": [
      "Copying file://pr.json [Content-Type=application/json]...\n",
      "/ [1 files][689.1 KiB/689.1 KiB]                                                \n",
      "Operation completed over 1 objects/689.1 KiB.                                    \n"
     ]
    }
   ],
   "source": [
    "pr_src = \"pr.json\"\n",
    "pr_dst = f'gs://{bucket_name}/pr/{pr_src}'\n",
    "!gsutil cp $pr_src $pr_dst"
   ]
  },
  {
   "cell_type": "code",
   "execution_count": 32,
   "id": "a4d849a8",
   "metadata": {
    "pycharm": {
     "name": "#%%\n"
    }
   },
   "outputs": [
    {
     "name": "stderr",
     "output_type": "stream",
     "text": [
      "                                                                                \r"
     ]
    }
   ],
   "source": [
    "# ANCHOR\n",
    "anchors_pairs = parquetFile.select (\"id\",\"anchor_text\").rdd\n",
    "word_count_anchor = anchors_pairs.flatMap(lambda x: word_count_anchors(x[0], x[1]))\n",
    "anchor_postings = word_count_anchor.groupByKey().mapValues(reduce_word_counts)\n",
    "#anchor_postings.first()\n",
    "w2df = calculate_df(anchor_postings)\n",
    "anchor_length = get_docs_length(anchor_postings)\n",
    "w2df_dict = w2df.collectAsMap()\n",
    "total_anchor = calculate_tf(anchor_postings)\n",
    "# partition posting lists and write out\n",
    "# calculate total terms"
   ]
  },
  {
   "cell_type": "code",
   "execution_count": 33,
   "id": "98aeedf0",
   "metadata": {},
   "outputs": [
    {
     "name": "stderr",
     "output_type": "stream",
     "text": [
      "                                                                                \r"
     ]
    }
   ],
   "source": [
    "_ = partition_postings_and_write(anchor_postings, \"anchor\").collect()"
   ]
  },
  {
   "cell_type": "code",
   "execution_count": 34,
   "id": "GdDBhCNC8db8",
   "metadata": {
    "id": "GdDBhCNC8db8"
   },
   "outputs": [],
   "source": [
    "# collect all posting lists locations into one super-set\n",
    "anchor_posting_locs = defaultdict(list)\n",
    "for blob in client.list_blobs(bucket_name, prefix='anchor'):\n",
    "    if not blob.name.endswith(\"pickle\"):\n",
    "        continue\n",
    "    with blob.open(\"rb\") as f:\n",
    "        posting_locs = pickle.load(f)\n",
    "        for k, v in posting_locs.items():\n",
    "            anchor_posting_locs[k].extend(v)"
   ]
  },
  {
   "cell_type": "code",
   "execution_count": 35,
   "id": "GVdtuQNT8jBn",
   "metadata": {
    "id": "GVdtuQNT8jBn"
   },
   "outputs": [],
   "source": [
    "# Create inverted index instance\n",
    "inverted = InvertedIndex()\n",
    "inverted.posting_locs = anchor_posting_locs\n",
    "inverted.doc_length = anchor_length.collectAsMap()\n",
    "inverted.df = w2df_dict\n",
    "inverted.term_total = total_anchor.collectAsMap()\n",
    "inverted.write_index('.', 'anchor_index')\n",
    "index_src = \"anchor_index.pkl\"\n",
    "index_dst = f'gs://{bucket_name}/anchor/{index_src}'"
   ]
  },
  {
   "cell_type": "code",
   "execution_count": 37,
   "id": "aLnW9wrV9Yus",
   "metadata": {
    "id": "aLnW9wrV9Yus",
    "pycharm": {
     "name": "#%%\n"
    }
   },
   "outputs": [
    {
     "name": "stdout",
     "output_type": "stream",
     "text": [
      "997.88 KiB  2024-03-10T12:17:13Z  gs://209092196_212080188_209318666/anchor/anchor_index.pkl\r\n",
      "TOTAL: 1 objects, 1021833 bytes (997.88 KiB)\r\n"
     ]
    }
   ],
   "source": [
    "!gsutil cp $index_src $index_dst"
   ]
  }
 ],
 "metadata": {
  "celltoolbar": "Create Assignment",
  "colab": {
   "provenance": []
  },
  "kernelspec": {
   "display_name": "PySpark",
   "language": "python",
   "name": "pyspark"
  },
  "language_info": {
   "codemirror_mode": {
    "name": "ipython",
    "version": 3
   },
   "file_extension": ".py",
   "mimetype": "text/x-python",
   "name": "python",
   "nbconvert_exporter": "python",
   "pygments_lexer": "ipython3",
   "version": "3.10.8"
  }
 },
 "nbformat": 4,
 "nbformat_minor": 5
}