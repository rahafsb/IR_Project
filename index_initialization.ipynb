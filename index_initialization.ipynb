{
  "cells": [
    {
      "cell_type": "code",
      "execution_count": null,
      "id": "5ac36d3a",
      "metadata": {
        "id": "5ac36d3a",
        "nbgrader": {
          "grade": false,
          "grade_id": "cell-Worker_Count",
          "locked": true,
          "schema_version": 3,
          "solution": false,
          "task": false
        },
        "outputId": "cf88b954-f39a-412a-d87e-660833e735b6"
      },
      "outputs": [
        {
          "name": "stdout",
          "output_type": "stream",
          "text": [
            "NAME          PLATFORM  PRIMARY_WORKER_COUNT  SECONDARY_WORKER_COUNT  STATUS   ZONE           SCHEDULED_DELETE\r\n",
            "cluster-ee96  GCE       2                                             RUNNING  us-central1-a\r\n"
          ]
        }
      ],
      "source": [
        "# if the following command generates an error, you probably didn't enable\n",
        "# the cluster security option \"Allow API access to all Google Cloud services\"\n",
        "# under Manage Security → Project Access when setting up the cluster\n",
        "!gcloud dataproc clusters list --region us-central1"
      ]
    },
    {
      "cell_type": "markdown",
      "id": "51cf86c5",
      "metadata": {
        "id": "51cf86c5"
      },
      "source": [
        "# Imports & Setup"
      ]
    },
    {
      "cell_type": "code",
      "execution_count": null,
      "id": "bf199e6a",
      "metadata": {
        "id": "bf199e6a",
        "nbgrader": {
          "grade": false,
          "grade_id": "cell-Setup",
          "locked": true,
          "schema_version": 3,
          "solution": false,
          "task": false
        },
        "outputId": "fc0e315d-21e9-411d-d69c-5b97e4e5d629"
      },
      "outputs": [
        {
          "name": "stdout",
          "output_type": "stream",
          "text": [
            "\u001b[33mWARNING: Running pip as the 'root' user can result in broken permissions and conflicting behaviour with the system package manager. It is recommended to use a virtual environment instead: https://pip.pypa.io/warnings/venv\u001b[0m\u001b[33m\n",
            "\u001b[0m\u001b[33mWARNING: Running pip as the 'root' user can result in broken permissions and conflicting behaviour with the system package manager. It is recommended to use a virtual environment instead: https://pip.pypa.io/warnings/venv\u001b[0m\u001b[33m\n",
            "\u001b[0m"
          ]
        }
      ],
      "source": [
        "!pip install -q google-cloud-storage==1.43.0\n",
        "!pip install -q graphframes"
      ]
    },
    {
      "cell_type": "code",
      "execution_count": null,
      "id": "d8f56ecd",
      "metadata": {
        "id": "d8f56ecd",
        "nbgrader": {
          "grade": false,
          "grade_id": "cell-Imports",
          "locked": true,
          "schema_version": 3,
          "solution": false,
          "task": false
        },
        "outputId": "a24aa24b-aa75-4823-83ca-1d7deef0f0de"
      },
      "outputs": [
        {
          "name": "stderr",
          "output_type": "stream",
          "text": [
            "[nltk_data] Downloading package stopwords to /root/nltk_data...\n",
            "[nltk_data]   Package stopwords is already up-to-date!\n"
          ]
        },
        {
          "data": {
            "text/plain": [
              "True"
            ]
          },
          "execution_count": 3,
          "metadata": {},
          "output_type": "execute_result"
        }
      ],
      "source": [
        "import pyspark\n",
        "import sys\n",
        "from collections import Counter, OrderedDict, defaultdict\n",
        "import itertools\n",
        "from itertools import islice, count, groupby\n",
        "import pandas as pd\n",
        "import os\n",
        "import re\n",
        "from operator import itemgetter\n",
        "import nltk\n",
        "from nltk.stem.porter import *\n",
        "from nltk.corpus import stopwords\n",
        "from time import time\n",
        "from pathlib import Path\n",
        "import pickle\n",
        "import pandas as pd\n",
        "from google.cloud import storage\n",
        "\n",
        "import hashlib\n",
        "def _hash(s):\n",
        "    return hashlib.blake2b(bytes(s, encoding='utf8'), digest_size=5).hexdigest()\n",
        "\n",
        "nltk.download('stopwords')"
      ]
    },
    {
      "cell_type": "code",
      "execution_count": null,
      "id": "38a897f2",
      "metadata": {
        "id": "38a897f2",
        "nbgrader": {
          "grade": false,
          "grade_id": "cell-jar",
          "locked": true,
          "schema_version": 3,
          "solution": false,
          "task": false
        },
        "outputId": "8f93a7ec-71e0-49c1-fc81-9af385849a90"
      },
      "outputs": [
        {
          "name": "stdout",
          "output_type": "stream",
          "text": [
            "-rw-r--r-- 1 root root 247882 Feb 21 09:57 /usr/lib/spark/jars/graphframes-0.8.2-spark3.1-s_2.12.jar\r\n"
          ]
        }
      ],
      "source": [
        "# if nothing prints here you forgot to include the initialization script when starting the cluster\n",
        "!ls -l /usr/lib/spark/jars/graph*"
      ]
    },
    {
      "cell_type": "code",
      "execution_count": null,
      "id": "47900073",
      "metadata": {
        "id": "47900073",
        "nbgrader": {
          "grade": false,
          "grade_id": "cell-pyspark-import",
          "locked": true,
          "schema_version": 3,
          "solution": false,
          "task": false
        }
      },
      "outputs": [],
      "source": [
        "from pyspark.sql import *\n",
        "from pyspark.sql.functions import *\n",
        "from pyspark import SparkContext, SparkConf, SparkFiles\n",
        "from pyspark.sql import SQLContext\n",
        "from graphframes import *"
      ]
    },
    {
      "cell_type": "code",
      "execution_count": null,
      "id": "72bed56b",
      "metadata": {
        "id": "72bed56b",
        "nbgrader": {
          "grade": false,
          "grade_id": "cell-spark-version",
          "locked": true,
          "schema_version": 3,
          "solution": false,
          "task": false
        },
        "outputId": "07b4e22b-a252-42fb-fe46-d9050e4e7ca8",
        "scrolled": true
      },
      "outputs": [
        {
          "data": {
            "text/html": [
              "\n",
              "            <div>\n",
              "                <p><b>SparkSession - hive</b></p>\n",
              "                \n",
              "        <div>\n",
              "            <p><b>SparkContext</b></p>\n",
              "\n",
              "            <p><a href=\"http://cluster-ee96-m.c.e7zor3.internal:43653\">Spark UI</a></p>\n",
              "\n",
              "            <dl>\n",
              "              <dt>Version</dt>\n",
              "                <dd><code>v3.3.2</code></dd>\n",
              "              <dt>Master</dt>\n",
              "                <dd><code>yarn</code></dd>\n",
              "              <dt>AppName</dt>\n",
              "                <dd><code>PySparkShell</code></dd>\n",
              "            </dl>\n",
              "        </div>\n",
              "        \n",
              "            </div>\n",
              "        "
            ],
            "text/plain": [
              "<pyspark.sql.session.SparkSession at 0x7fae6bc6e9b0>"
            ]
          },
          "execution_count": 6,
          "metadata": {},
          "output_type": "execute_result"
        }
      ],
      "source": [
        "spark"
      ]
    },
    {
      "cell_type": "code",
      "execution_count": null,
      "id": "980e62a5",
      "metadata": {
        "id": "980e62a5",
        "nbgrader": {
          "grade": false,
          "grade_id": "cell-bucket_name",
          "locked": false,
          "schema_version": 3,
          "solution": true,
          "task": false
        }
      },
      "outputs": [],
      "source": [
        "# Put your bucket name below and make sure you can access it without an error\n",
        "bucket_name = 'ehzor324'\n",
        "full_path = f\"gs://{bucket_name}/\"\n",
        "paths=[]\n",
        "\n",
        "client = storage.Client()\n",
        "blobs = client.list_blobs(bucket_name)\n",
        "for b in blobs:\n",
        "    if b.name != 'graphframes.sh':\n",
        "        paths.append(full_path+b.name)"
      ]
    },
    {
      "cell_type": "markdown",
      "id": "cac891c2",
      "metadata": {
        "id": "cac891c2"
      },
      "source": [
        "***GCP setup is complete!*** If you got here without any errors you've earned 10 out of the 35 points of this part."
      ]
    },
    {
      "cell_type": "markdown",
      "id": "582c3f5e",
      "metadata": {
        "id": "582c3f5e"
      },
      "source": [
        "# Building an inverted index"
      ]
    },
    {
      "cell_type": "markdown",
      "id": "481f2044",
      "metadata": {
        "id": "481f2044"
      },
      "source": [
        "Here, we read the entire corpus to an rdd, directly from Google Storage Bucket and use your code from Colab to construct an inverted index."
      ]
    },
    {
      "cell_type": "code",
      "execution_count": null,
      "id": "e4c523e7",
      "metadata": {
        "id": "e4c523e7",
        "scrolled": false,
        "outputId": "f1ccd526-1ee3-4825-c2dd-af89e0799a65"
      },
      "outputs": [
        {
          "name": "stderr",
          "output_type": "stream",
          "text": [
            "                                                                                \r"
          ]
        }
      ],
      "source": [
        "parquetFile = spark.read.parquet(*paths)\n",
        "doc_text_pairs = parquetFile.select(\"text\", \"id\").rdd"
      ]
    },
    {
      "cell_type": "markdown",
      "id": "0d7e2971",
      "metadata": {
        "id": "0d7e2971"
      },
      "source": [
        "We will count the number of pages to make sure we are looking at the entire corpus. The number of pages should be more than 6M"
      ]
    },
    {
      "cell_type": "code",
      "execution_count": null,
      "id": "82881fbf",
      "metadata": {
        "id": "82881fbf",
        "outputId": "543be2e4-6c6f-4e8a-f947-3b6f4810d954"
      },
      "outputs": [
        {
          "name": "stderr",
          "output_type": "stream",
          "text": [
            "                                                                                \r"
          ]
        },
        {
          "data": {
            "text/plain": [
              "6348910"
            ]
          },
          "execution_count": 9,
          "metadata": {},
          "output_type": "execute_result"
        }
      ],
      "source": [
        "# Count number of wiki pages\n",
        "parquetFile.count()"
      ]
    },
    {
      "cell_type": "markdown",
      "id": "701811af",
      "metadata": {
        "id": "701811af"
      },
      "source": [
        "Let's import the inverted index module. Note that you need to use the staff-provided version called `inverted_index_gcp.py`, which contains helper functions to writing and reading the posting files similar to the Colab version, but with writing done to a Google Cloud Storage bucket."
      ]
    },
    {
      "cell_type": "code",
      "execution_count": null,
      "id": "121fe102",
      "metadata": {
        "id": "121fe102",
        "outputId": "327fe81b-80f4-4b3a-8894-e74720d92e35"
      },
      "outputs": [
        {
          "name": "stdout",
          "output_type": "stream",
          "text": [
            "inverted_index_gcp.py\r\n"
          ]
        }
      ],
      "source": [
        "# if nothing prints here you forgot to upload the file inverted_index_gcp.py to the home dir\n",
        "%cd -q /home/dataproc\n",
        "!ls inverted_index_gcp.py"
      ]
    },
    {
      "cell_type": "code",
      "execution_count": null,
      "id": "57c101a8",
      "metadata": {
        "id": "57c101a8",
        "scrolled": true
      },
      "outputs": [],
      "source": [
        "# adding our python module to the cluster\n",
        "sc.addFile(\"/home/dataproc/inverted_index_gcp.py\")\n",
        "sys.path.insert(0,SparkFiles.getRootDirectory())"
      ]
    },
    {
      "cell_type": "code",
      "execution_count": null,
      "id": "c259c402",
      "metadata": {
        "id": "c259c402"
      },
      "outputs": [],
      "source": [
        "from inverted_index_gcp import InvertedIndex"
      ]
    },
    {
      "cell_type": "code",
      "execution_count": null,
      "id": "f3ad8fea",
      "metadata": {
        "id": "f3ad8fea",
        "nbgrader": {
          "grade": false,
          "grade_id": "cell-token2bucket",
          "locked": false,
          "schema_version": 3,
          "solution": true,
          "task": false
        }
      },
      "outputs": [],
      "source": [
        "english_stopwords = frozenset(stopwords.words('english'))\n",
        "corpus_stopwords = [\"category\", \"references\", \"also\", \"external\", \"links\",\n",
        "                    \"may\", \"first\", \"see\", \"history\", \"people\", \"one\", \"two\",\n",
        "                    \"part\", \"thumb\", \"including\", \"second\", \"following\",\n",
        "                    \"many\", \"however\", \"would\", \"became\"]\n",
        "\n",
        "all_stopwords = english_stopwords.union(corpus_stopwords)\n",
        "RE_WORD = re.compile(r\"\"\"[\\#\\@\\w](['\\-]?\\w){2,24}\"\"\", re.UNICODE)\n",
        "\n",
        "NUM_BUCKETS = 124\n",
        "def token2bucket_id(token):\n",
        "    return int(_hash(token),16) % NUM_BUCKETS\n",
        "\n",
        "# PLACE YOUR CODE HERE\n",
        "#################################\n",
        "#  STEMMING AND STOP WORDS\n",
        "\n",
        "def filter_tokens(tokens, tokens2remove=None, use_stemming=True):\n",
        "  stemmer = PorterStemmer()\n",
        "  if tokens2remove is not None:\n",
        "    tokens = [tok for tok in tokens if tok not in tokens2remove]\n",
        "  if use_stemming:\n",
        "    tokens = [stemmer.stem(tok) for tok in tokens]\n",
        "  return tokens\n",
        "#################################\n",
        "def word_count(text, id):\n",
        "    #tokens = filter_tokens()\n",
        "    tokens = [token.group() for token in RE_WORD.finditer(text.lower())]\n",
        "    tokens = filter_tokens(tokens,all_stopwords, True)\n",
        "    freq_dict = {word: tokens.count(word) for word in tokens if word not in all_stopwords}\n",
        "    ret = [(word, (id, freq_dict[word])) for word in freq_dict.keys()]\n",
        "    return ret\n",
        "\n",
        "def reduce_word_counts(unsorted_pl):\n",
        "    return sorted(unsorted_pl)\n",
        "\n",
        "def calculate_df(postings):\n",
        "    return postings.mapValues(lambda posting_lst: len(posting_lst))\n",
        "\n",
        "def calculate_tf(postings):\n",
        "    term_count = postings.flatMap(lambda x: [(x[0], len(x[1]))])\n",
        "    term_sum = term_count.reduceByKey(lambda x, y: x + y)\n",
        "    term_total = term_sum.aggregateByKey(lambda x, y: x + y, lambda x, y: x + y)\n",
        "    return term_total\n",
        "\n",
        "def partition_postings_and_write(postings):\n",
        "    return postings.map(lambda posting: (token2bucket_id(posting[0]), [(posting[0], posting[1])])).reduceByKey(lambda x, y: x + y).map(lambda posting: InvertedIndex.write_a_posting_list(posting,bucket_name))\n",
        "\n",
        "def get_docs_length(postings):\n",
        "    doc_counts = postings.flatMap(lambda x: [(x[0], count) for count in x[1]])\n",
        "    doc_lengths = doc_counts.aggregateByKey(0, lambda x, y: x + y, lambda x, y: x + y)\n",
        "    return doc_lengths\n",
        "\n"
      ]
    },
    {
      "cell_type": "code",
      "source": [
        "# TITLE\n",
        "docs_title_pairs = parquetFile.select(\"id\",\"title\")\n",
        "docs_title_pairs_dict = dict(docs_title_pairs.collect())\n",
        "with open(\"titles.json\", \"w\") as _json:\n",
        "    json.dump(docs_title_pairs_dict, _json)\n",
        "title_src = \"titles.json\"\n",
        "title_dst = f\"gs://{bucket_name}/titles/{titles_src}\""
      ],
      "metadata": {
        "id": "sKx8I2Vnx90g"
      },
      "id": "sKx8I2Vnx90g",
      "execution_count": null,
      "outputs": []
    },
    {
      "cell_type": "code",
      "source": [
        "!gsutil cp $title_src $title_dst"
      ],
      "metadata": {
        "id": "SwvRtFmETfx2"
      },
      "id": "SwvRtFmETfx2",
      "execution_count": null,
      "outputs": []
    },
    {
      "cell_type": "code",
      "source": [
        "word_counts_title = docs_title_pairs.flatMap(lambda x: word_count(x[0], x[1]))\n",
        "postings_titles = word_counts_title.groupByKey().mapValues(reduce_word_counts)\n",
        "t2df_title = calculate_df(postings_titles).collectAsMap()\n",
        "title_length = get_docs_length(postings_titles)\n",
        "total_title = calculate_tf(postings_titles)\n",
        "_ = partition_postings_and_write(postings_titles, \"titles\").collect()"
      ],
      "metadata": {
        "id": "ezWH5bmNTmaj"
      },
      "id": "ezWH5bmNTmaj",
      "execution_count": null,
      "outputs": []
    },
    {
      "cell_type": "code",
      "source": [
        "# collect all posting lists locations into one super-set\n",
        "titles_posting_locs = defaultdict(list)\n",
        "for blob in client.list_blobs(bucket_name, prefix='titles'):\n",
        "  if not blob.name.endswith(\"pickle\"):\n",
        "    continue\n",
        "  with blob.open(\"rb\") as f:\n",
        "    posting_locs = pickle.load(f)\n",
        "    for k, v in posting_locs.items():\n",
        "      titles_posting_locs[k].extend(v)"
      ],
      "metadata": {
        "id": "8BmivfYuc2Eb"
      },
      "id": "8BmivfYuc2Eb",
      "execution_count": null,
      "outputs": []
    },
    {
      "cell_type": "code",
      "source": [
        "# Create inverted index instance\n",
        "inverted = InvertedIndex()\n",
        "inverted.posting_locs = titles_posting_locs\n",
        "inverted.df = t2df_title\n",
        "inverted.doc_length = title_length.collectAsMap()\n",
        "inverted.term_total = total_title.collectAsMap()\n",
        "inverted.write_index('.', 'title_index')\n",
        "index_src = \"title_index.pkl\"\n",
        "index_dst = f'gs://{bucket_name}/titles/{index_src}'"
      ],
      "metadata": {
        "id": "3TQjI5TKdeKw"
      },
      "id": "3TQjI5TKdeKw",
      "execution_count": null,
      "outputs": []
    },
    {
      "cell_type": "code",
      "source": [
        "!gsutil cp $index_src $index_dst"
      ],
      "metadata": {
        "id": "WsHtmOGPgCAq"
      },
      "id": "WsHtmOGPgCAq",
      "execution_count": null,
      "outputs": []
    },
    {
      "cell_type": "code",
      "execution_count": null,
      "id": "55c8764e",
      "metadata": {
        "id": "55c8764e",
        "nbgrader": {
          "grade": false,
          "grade_id": "cell-index_construction",
          "locked": false,
          "schema_version": 3,
          "solution": true,
          "task": false
        },
        "outputId": "daccb5a7-6dfe-47f3-d6fc-06ab685dd953"
      },
      "outputs": [
        {
          "name": "stderr",
          "output_type": "stream",
          "text": [
            "24/02/21 15:01:22 WARN BlockManagerMasterEndpoint: No more replicas available for rdd_84_78 !\n",
            "24/02/21 15:01:22 WARN BlockManagerMasterEndpoint: No more replicas available for rdd_99_43 !\n",
            "24/02/21 15:01:22 WARN BlockManagerMasterEndpoint: No more replicas available for rdd_101_94 !\n",
            "24/02/21 15:01:22 WARN BlockManagerMasterEndpoint: No more replicas available for rdd_99_89 !\n",
            "24/02/21 15:01:22 WARN BlockManagerMasterEndpoint: No more replicas available for rdd_89_113 !\n",
            "24/02/21 15:01:22 WARN BlockManagerMasterEndpoint: No more replicas available for rdd_84_70 !\n",
            "24/02/21 15:01:22 WARN BlockManagerMasterEndpoint: No more replicas available for rdd_87_117 !\n",
            "24/02/21 15:01:22 WARN BlockManagerMasterEndpoint: No more replicas available for rdd_89_108 !\n",
            "24/02/21 15:01:22 WARN BlockManagerMasterEndpoint: No more replicas available for rdd_181_2 !\n",
            "24/02/21 15:01:22 WARN BlockManagerMasterEndpoint: No more replicas available for rdd_181_6 !\n",
            "24/02/21 15:01:22 WARN BlockManagerMasterEndpoint: No more replicas available for rdd_181_35 !\n",
            "24/02/21 15:01:22 WARN BlockManagerMasterEndpoint: No more replicas available for rdd_84_6 !\n",
            "24/02/21 15:01:22 WARN BlockManagerMasterEndpoint: No more replicas available for rdd_89_70 !\n",
            "24/02/21 15:01:22 WARN BlockManagerMasterEndpoint: No more replicas available for rdd_84_89 !\n",
            "24/02/21 15:01:22 WARN BlockManagerMasterEndpoint: No more replicas available for rdd_99_108 !\n",
            "24/02/21 15:01:22 WARN BlockManagerMasterEndpoint: No more replicas available for rdd_187_94 !\n",
            "24/02/21 15:01:22 WARN BlockManagerMasterEndpoint: No more replicas available for rdd_191_97 !\n",
            "24/02/21 15:01:22 WARN BlockManagerMasterEndpoint: No more replicas available for rdd_89_22 !\n",
            "24/02/21 15:01:22 WARN BlockManagerMasterEndpoint: No more replicas available for rdd_99_51 !\n",
            "24/02/21 15:01:22 WARN BlockManagerMasterEndpoint: No more replicas available for rdd_181_89 !\n",
            "24/02/21 15:01:22 WARN BlockManagerMasterEndpoint: No more replicas available for rdd_91_94 !\n",
            "24/02/21 15:01:22 WARN BlockManagerMasterEndpoint: No more replicas available for rdd_99_42 !\n",
            "24/02/21 15:01:22 WARN BlockManagerMasterEndpoint: No more replicas available for rdd_191_35 !\n",
            "24/02/21 15:01:22 WARN BlockManagerMasterEndpoint: No more replicas available for rdd_84_50 !\n",
            "24/02/21 15:01:22 WARN BlockManagerMasterEndpoint: No more replicas available for rdd_84_71 !\n",
            "24/02/21 15:01:22 WARN BlockManagerMasterEndpoint: No more replicas available for rdd_191_108 !\n",
            "24/02/21 15:01:22 WARN BlockManagerMasterEndpoint: No more replicas available for rdd_191_2 !\n",
            "24/02/21 15:01:22 WARN BlockManagerMasterEndpoint: No more replicas available for rdd_191_103 !\n",
            "24/02/21 15:01:22 WARN BlockManagerMasterEndpoint: No more replicas available for rdd_181_51 !\n",
            "24/02/21 15:01:22 WARN BlockManagerMasterEndpoint: No more replicas available for rdd_191_43 !\n",
            "24/02/21 15:01:22 WARN BlockManagerMasterEndpoint: No more replicas available for rdd_181_97 !\n",
            "24/02/21 15:01:22 WARN BlockManagerMasterEndpoint: No more replicas available for rdd_89_2 !\n",
            "24/02/21 15:01:22 WARN BlockManagerMasterEndpoint: No more replicas available for rdd_99_2 !\n",
            "24/02/21 15:01:22 WARN BlockManagerMasterEndpoint: No more replicas available for rdd_89_42 !\n",
            "24/02/21 15:01:22 WARN BlockManagerMasterEndpoint: No more replicas available for rdd_99_70 !\n",
            "24/02/21 15:01:22 WARN BlockManagerMasterEndpoint: No more replicas available for rdd_84_14 !\n",
            "24/02/21 15:01:22 WARN BlockManagerMasterEndpoint: No more replicas available for rdd_89_63 !\n",
            "24/02/21 15:01:22 WARN BlockManagerMasterEndpoint: No more replicas available for rdd_191_62 !\n",
            "24/02/21 15:01:22 WARN BlockManagerMasterEndpoint: No more replicas available for rdd_84_103 !\n",
            "24/02/21 15:01:22 WARN BlockManagerMasterEndpoint: No more replicas available for rdd_187_117 !\n",
            "24/02/21 15:01:22 WARN BlockManagerMasterEndpoint: No more replicas available for rdd_87_111 !\n",
            "24/02/21 15:01:22 WARN BlockManagerMasterEndpoint: No more replicas available for rdd_191_87 !\n",
            "24/02/21 15:01:22 WARN BlockManagerMasterEndpoint: No more replicas available for rdd_84_42 !\n",
            "24/02/21 15:01:22 WARN BlockManagerMasterEndpoint: No more replicas available for rdd_84_22 !\n",
            "24/02/21 15:01:22 WARN BlockManagerMasterEndpoint: No more replicas available for rdd_99_22 !\n",
            "24/02/21 15:01:22 WARN BlockManagerMasterEndpoint: No more replicas available for rdd_99_78 !\n",
            "24/02/21 15:01:22 WARN BlockManagerMasterEndpoint: No more replicas available for rdd_84_63 !\n",
            "24/02/21 15:01:22 WARN BlockManagerMasterEndpoint: No more replicas available for rdd_84_23 !\n",
            "24/02/21 15:01:22 WARN BlockManagerMasterEndpoint: No more replicas available for rdd_99_14 !\n",
            "24/02/21 15:01:22 WARN BlockManagerMasterEndpoint: No more replicas available for rdd_181_23 !\n",
            "24/02/21 15:01:22 WARN BlockManagerMasterEndpoint: No more replicas available for rdd_84_112 !\n",
            "24/02/21 15:01:22 WARN BlockManagerMasterEndpoint: No more replicas available for rdd_99_71 !\n",
            "24/02/21 15:01:22 WARN BlockManagerMasterEndpoint: No more replicas available for rdd_89_97 !\n",
            "24/02/21 15:01:22 WARN BlockManagerMasterEndpoint: No more replicas available for rdd_191_23 !\n",
            "24/02/21 15:01:22 WARN BlockManagerMasterEndpoint: No more replicas available for rdd_99_113 !\n",
            "24/02/21 15:01:22 WARN BlockManagerMasterEndpoint: No more replicas available for rdd_181_87 !\n",
            "24/02/21 15:01:22 WARN BlockManagerMasterEndpoint: No more replicas available for rdd_181_62 !\n",
            "24/02/21 15:01:22 WARN BlockManagerMasterEndpoint: No more replicas available for rdd_181_34 !\n",
            "24/02/21 15:01:22 WARN BlockManagerMasterEndpoint: No more replicas available for rdd_181_78 !\n",
            "24/02/21 15:01:22 WARN BlockManagerMasterEndpoint: No more replicas available for rdd_181_113 !\n",
            "24/02/21 15:01:22 WARN BlockManagerMasterEndpoint: No more replicas available for rdd_99_23 !\n",
            "24/02/21 15:01:22 WARN BlockManagerMasterEndpoint: No more replicas available for rdd_191_112 !\n",
            "24/02/21 15:01:22 WARN BlockManagerMasterEndpoint: No more replicas available for rdd_91_111 !\n",
            "24/02/21 15:01:22 WARN BlockManagerMasterEndpoint: No more replicas available for rdd_181_14 !\n",
            "24/02/21 15:01:22 WARN BlockManagerMasterEndpoint: No more replicas available for rdd_84_79 !\n",
            "24/02/21 15:01:22 WARN BlockManagerMasterEndpoint: No more replicas available for rdd_89_112 !\n",
            "24/02/21 15:01:22 WARN BlockManagerMasterEndpoint: No more replicas available for rdd_99_63 !\n",
            "24/02/21 15:01:22 WARN BlockManagerMasterEndpoint: No more replicas available for rdd_191_79 !\n",
            "24/02/21 15:01:22 WARN BlockManagerMasterEndpoint: No more replicas available for rdd_191_22 !\n",
            "24/02/21 15:01:22 WARN BlockManagerMasterEndpoint: No more replicas available for rdd_89_15 !\n",
            "24/02/21 15:01:22 WARN BlockManagerMasterEndpoint: No more replicas available for rdd_181_71 !\n",
            "24/02/21 15:01:22 WARN BlockManagerMasterEndpoint: No more replicas available for rdd_187_88 !\n",
            "24/02/21 15:01:22 WARN BlockManagerMasterEndpoint: No more replicas available for rdd_89_71 !\n",
            "24/02/21 15:01:22 WARN BlockManagerMasterEndpoint: No more replicas available for rdd_181_96 !\n",
            "24/02/21 15:01:22 WARN BlockManagerMasterEndpoint: No more replicas available for rdd_191_15 !\n",
            "24/02/21 15:01:22 WARN BlockManagerMasterEndpoint: No more replicas available for rdd_99_62 !\n",
            "24/02/21 15:01:22 WARN BlockManagerMasterEndpoint: No more replicas available for rdd_89_96 !\n",
            "24/02/21 15:01:22 WARN BlockManagerMasterEndpoint: No more replicas available for rdd_191_89 !\n",
            "24/02/21 15:01:22 WARN BlockManagerMasterEndpoint: No more replicas available for rdd_181_70 !\n",
            "24/02/21 15:01:22 WARN BlockManagerMasterEndpoint: No more replicas available for rdd_84_121 !\n",
            "24/02/21 15:01:22 WARN BlockManagerMasterEndpoint: No more replicas available for rdd_99_15 !\n",
            "24/02/21 15:01:22 WARN BlockManagerMasterEndpoint: No more replicas available for rdd_84_15 !\n",
            "24/02/21 15:01:22 WARN BlockManagerMasterEndpoint: No more replicas available for rdd_191_96 !\n",
            "24/02/21 15:01:22 WARN BlockManagerMasterEndpoint: No more replicas available for rdd_99_35 !\n",
            "24/02/21 15:01:22 WARN BlockManagerMasterEndpoint: No more replicas available for rdd_181_63 !\n",
            "24/02/21 15:01:22 WARN BlockManagerMasterEndpoint: No more replicas available for rdd_181_42 !\n",
            "24/02/21 15:01:22 WARN BlockManagerMasterEndpoint: No more replicas available for rdd_89_50 !\n",
            "24/02/21 15:01:22 WARN BlockManagerMasterEndpoint: No more replicas available for rdd_89_121 !\n",
            "24/02/21 15:01:22 WARN BlockManagerMasterEndpoint: No more replicas available for rdd_181_15 !\n",
            "24/02/21 15:01:22 WARN BlockManagerMasterEndpoint: No more replicas available for rdd_84_35 !\n",
            "24/02/21 15:01:22 WARN BlockManagerMasterEndpoint: No more replicas available for rdd_89_34 !\n",
            "24/02/21 15:01:22 WARN BlockManagerMasterEndpoint: No more replicas available for rdd_99_87 !\n",
            "24/02/21 15:01:22 WARN BlockManagerMasterEndpoint: No more replicas available for rdd_89_103 !\n",
            "24/02/21 15:01:22 WARN BlockManagerMasterEndpoint: No more replicas available for rdd_99_103 !\n",
            "24/02/21 15:01:22 WARN BlockManagerMasterEndpoint: No more replicas available for rdd_89_51 !\n",
            "24/02/21 15:01:22 WARN BlockManagerMasterEndpoint: No more replicas available for rdd_87_123 !\n",
            "24/02/21 15:01:22 WARN BlockManagerMasterEndpoint: No more replicas available for rdd_89_35 !\n",
            "24/02/21 15:01:22 WARN BlockManagerMasterEndpoint: No more replicas available for rdd_191_6 !\n",
            "24/02/21 15:01:22 WARN BlockManagerMasterEndpoint: No more replicas available for rdd_89_62 !\n",
            "24/02/21 15:01:22 WARN BlockManagerMasterEndpoint: No more replicas available for rdd_191_71 !\n",
            "24/02/21 15:01:22 WARN BlockManagerMasterEndpoint: No more replicas available for rdd_191_78 !\n",
            "24/02/21 15:01:22 WARN BlockManagerMasterEndpoint: No more replicas available for rdd_89_23 !\n",
            "24/02/21 15:01:22 WARN BlockManagerMasterEndpoint: No more replicas available for rdd_87_94 !\n",
            "24/02/21 15:01:22 WARN BlockManagerMasterEndpoint: No more replicas available for rdd_181_50 !\n",
            "24/02/21 15:01:22 WARN BlockManagerMasterEndpoint: No more replicas available for rdd_84_97 !\n",
            "24/02/21 15:01:22 WARN BlockManagerMasterEndpoint: No more replicas available for rdd_181_103 !\n",
            "24/02/21 15:01:22 WARN BlockManagerMasterEndpoint: No more replicas available for rdd_84_87 !\n",
            "24/02/21 15:01:22 WARN BlockManagerMasterEndpoint: No more replicas available for rdd_84_96 !\n",
            "24/02/21 15:01:22 WARN BlockManagerMasterEndpoint: No more replicas available for rdd_99_96 !\n",
            "24/02/21 15:01:22 WARN BlockManagerMasterEndpoint: No more replicas available for rdd_191_70 !\n",
            "24/02/21 15:01:22 WARN BlockManagerMasterEndpoint: No more replicas available for rdd_181_112 !\n",
            "24/02/21 15:01:22 WARN BlockManagerMasterEndpoint: No more replicas available for rdd_181_108 !\n",
            "24/02/21 15:01:22 WARN BlockManagerMasterEndpoint: No more replicas available for rdd_191_14 !\n",
            "24/02/21 15:01:22 WARN BlockManagerMasterEndpoint: No more replicas available for rdd_99_97 !\n",
            "24/02/21 15:01:22 WARN BlockManagerMasterEndpoint: No more replicas available for rdd_101_117 !\n",
            "24/02/21 15:01:22 WARN BlockManagerMasterEndpoint: No more replicas available for rdd_99_50 !\n",
            "24/02/21 15:01:22 WARN BlockManagerMasterEndpoint: No more replicas available for rdd_99_34 !\n",
            "24/02/21 15:01:22 WARN BlockManagerMasterEndpoint: No more replicas available for rdd_89_14 !\n",
            "24/02/21 15:01:22 WARN BlockManagerMasterEndpoint: No more replicas available for rdd_181_121 !\n",
            "24/02/21 15:01:22 WARN BlockManagerMasterEndpoint: No more replicas available for rdd_84_2 !\n",
            "24/02/21 15:01:22 WARN BlockManagerMasterEndpoint: No more replicas available for rdd_84_108 !\n",
            "24/02/21 15:01:22 WARN BlockManagerMasterEndpoint: No more replicas available for rdd_191_63 !\n",
            "24/02/21 15:01:22 WARN BlockManagerMasterEndpoint: No more replicas available for rdd_99_6 !\n",
            "24/02/21 15:01:22 WARN BlockManagerMasterEndpoint: No more replicas available for rdd_181_22 !\n",
            "24/02/21 15:01:22 WARN BlockManagerMasterEndpoint: No more replicas available for rdd_91_117 !\n",
            "24/02/21 15:01:22 WARN BlockManagerMasterEndpoint: No more replicas available for rdd_89_43 !\n",
            "24/02/21 15:01:22 WARN BlockManagerMasterEndpoint: No more replicas available for rdd_99_112 !\n",
            "24/02/21 15:01:22 WARN BlockManagerMasterEndpoint: No more replicas available for rdd_191_50 !\n",
            "24/02/21 15:01:22 WARN BlockManagerMasterEndpoint: No more replicas available for rdd_191_34 !\n",
            "24/02/21 15:01:22 WARN BlockManagerMasterEndpoint: No more replicas available for rdd_89_6 !\n",
            "24/02/21 15:01:22 WARN BlockManagerMasterEndpoint: No more replicas available for rdd_89_89 !\n",
            "24/02/21 15:01:22 WARN BlockManagerMasterEndpoint: No more replicas available for rdd_187_123 !\n",
            "24/02/21 15:01:22 WARN BlockManagerMasterEndpoint: No more replicas available for rdd_91_123 !\n",
            "24/02/21 15:01:22 WARN BlockManagerMasterEndpoint: No more replicas available for rdd_101_123 !\n",
            "24/02/21 15:01:22 WARN BlockManagerMasterEndpoint: No more replicas available for rdd_191_51 !\n",
            "24/02/21 15:01:22 WARN BlockManagerMasterEndpoint: No more replicas available for rdd_89_78 !\n",
            "24/02/21 15:01:22 WARN BlockManagerMasterEndpoint: No more replicas available for rdd_89_87 !\n",
            "24/02/21 15:01:22 WARN BlockManagerMasterEndpoint: No more replicas available for rdd_84_62 !\n",
            "24/02/21 15:01:22 WARN BlockManagerMasterEndpoint: No more replicas available for rdd_84_51 !\n",
            "24/02/21 15:01:22 WARN BlockManagerMasterEndpoint: No more replicas available for rdd_89_79 !\n",
            "24/02/21 15:01:22 WARN BlockManagerMasterEndpoint: No more replicas available for rdd_84_113 !\n",
            "24/02/21 15:01:22 WARN BlockManagerMasterEndpoint: No more replicas available for rdd_99_79 !\n",
            "24/02/21 15:01:22 WARN BlockManagerMasterEndpoint: No more replicas available for rdd_181_79 !\n",
            "24/02/21 15:01:22 WARN BlockManagerMasterEndpoint: No more replicas available for rdd_99_121 !\n",
            "24/02/21 15:01:22 WARN BlockManagerMasterEndpoint: No more replicas available for rdd_84_43 !\n",
            "24/02/21 15:01:22 WARN BlockManagerMasterEndpoint: No more replicas available for rdd_191_42 !\n",
            "24/02/21 15:01:22 WARN BlockManagerMasterEndpoint: No more replicas available for rdd_101_111 !\n",
            "24/02/21 15:01:22 WARN BlockManagerMasterEndpoint: No more replicas available for rdd_191_113 !\n",
            "24/02/21 15:01:22 WARN BlockManagerMasterEndpoint: No more replicas available for rdd_191_121 !\n",
            "24/02/21 15:01:22 WARN BlockManagerMasterEndpoint: No more replicas available for rdd_84_34 !\n",
            "24/02/21 15:01:22 WARN BlockManagerMasterEndpoint: No more replicas available for rdd_187_111 !\n",
            "24/02/21 15:01:22 WARN BlockManagerMasterEndpoint: No more replicas available for rdd_181_43 !\n",
            "24/02/21 15:01:23 WARN BlockManagerMasterEndpoint: No more replicas available for rdd_99_36 !\n",
            "24/02/21 15:01:23 WARN BlockManagerMasterEndpoint: No more replicas available for rdd_84_66 !\n",
            "24/02/21 15:01:23 WARN BlockManagerMasterEndpoint: No more replicas available for rdd_89_16 !\n",
            "24/02/21 15:01:23 WARN BlockManagerMasterEndpoint: No more replicas available for rdd_84_3 !\n",
            "24/02/21 15:01:23 WARN BlockManagerMasterEndpoint: No more replicas available for rdd_89_36 !\n",
            "24/02/21 15:01:23 WARN BlockManagerMasterEndpoint: No more replicas available for rdd_89_115 !\n",
            "24/02/21 15:01:23 WARN BlockManagerMasterEndpoint: No more replicas available for rdd_191_52 !\n",
            "24/02/21 15:01:23 WARN BlockManagerMasterEndpoint: No more replicas available for rdd_84_92 !\n",
            "24/02/21 15:01:23 WARN BlockManagerMasterEndpoint: No more replicas available for rdd_101_122 !\n",
            "24/02/21 15:01:23 WARN BlockManagerMasterEndpoint: No more replicas available for rdd_181_120 !\n",
            "24/02/21 15:01:23 WARN BlockManagerMasterEndpoint: No more replicas available for rdd_84_114 !\n",
            "24/02/21 15:01:23 WARN BlockManagerMasterEndpoint: No more replicas available for rdd_181_98 !\n",
            "24/02/21 15:01:23 WARN BlockManagerMasterEndpoint: No more replicas available for rdd_191_114 !\n",
            "24/02/21 15:01:23 WARN BlockManagerMasterEndpoint: No more replicas available for rdd_89_82 !\n",
            "24/02/21 15:01:23 WARN BlockManagerMasterEndpoint: No more replicas available for rdd_191_105 !\n",
            "24/02/21 15:01:23 WARN BlockManagerMasterEndpoint: No more replicas available for rdd_99_66 !\n",
            "24/02/21 15:01:23 WARN BlockManagerMasterEndpoint: No more replicas available for rdd_84_9 !\n",
            "24/02/21 15:01:23 WARN BlockManagerMasterEndpoint: No more replicas available for rdd_191_83 !\n",
            "24/02/21 15:01:23 WARN BlockManagerMasterEndpoint: No more replicas available for rdd_89_44 !\n",
            "24/02/21 15:01:23 WARN BlockManagerMasterEndpoint: No more replicas available for rdd_99_76 !\n",
            "24/02/21 15:01:23 WARN BlockManagerMasterEndpoint: No more replicas available for rdd_181_45 !\n",
            "24/02/21 15:01:23 WARN BlockManagerMasterEndpoint: No more replicas available for rdd_181_92 !\n",
            "24/02/21 15:01:23 WARN BlockManagerMasterEndpoint: No more replicas available for rdd_181_77 !\n",
            "24/02/21 15:01:23 WARN BlockManagerMasterEndpoint: No more replicas available for rdd_89_25 !\n",
            "24/02/21 15:01:23 WARN BlockManagerMasterEndpoint: No more replicas available for rdd_99_106 !\n",
            "24/02/21 15:01:23 WARN BlockManagerMasterEndpoint: No more replicas available for rdd_99_31 !\n",
            "24/02/21 15:01:23 WARN BlockManagerMasterEndpoint: No more replicas available for rdd_191_44 !\n",
            "24/02/21 15:01:23 WARN BlockManagerMasterEndpoint: No more replicas available for rdd_191_17 !\n",
            "24/02/21 15:01:23 WARN BlockManagerMasterEndpoint: No more replicas available for rdd_89_53 !\n",
            "24/02/21 15:01:23 WARN BlockManagerMasterEndpoint: No more replicas available for rdd_181_90 !\n",
            "24/02/21 15:01:23 WARN BlockManagerMasterEndpoint: No more replicas available for rdd_89_98 !\n",
            "24/02/21 15:01:23 WARN BlockManagerMasterEndpoint: No more replicas available for rdd_84_105 !\n",
            "24/02/21 15:01:23 WARN BlockManagerMasterEndpoint: No more replicas available for rdd_191_92 !\n",
            "24/02/21 15:01:23 WARN BlockManagerMasterEndpoint: No more replicas available for rdd_84_76 !\n",
            "24/02/21 15:01:23 WARN BlockManagerMasterEndpoint: No more replicas available for rdd_191_98 !\n",
            "24/02/21 15:01:23 WARN BlockManagerMasterEndpoint: No more replicas available for rdd_84_37 !\n",
            "24/02/21 15:01:23 WARN BlockManagerMasterEndpoint: No more replicas available for rdd_99_45 !\n",
            "24/02/21 15:01:23 WARN BlockManagerMasterEndpoint: No more replicas available for rdd_89_77 !\n",
            "24/02/21 15:01:23 WARN BlockManagerMasterEndpoint: No more replicas available for rdd_89_83 !\n",
            "24/02/21 15:01:23 WARN BlockManagerMasterEndpoint: No more replicas available for rdd_187_110 !\n",
            "24/02/21 15:01:23 WARN BlockManagerMasterEndpoint: No more replicas available for rdd_101_110 !\n",
            "24/02/21 15:01:23 WARN BlockManagerMasterEndpoint: No more replicas available for rdd_181_44 !\n",
            "24/02/21 15:01:23 WARN BlockManagerMasterEndpoint: No more replicas available for rdd_191_16 !\n",
            "24/02/21 15:01:23 WARN BlockManagerMasterEndpoint: No more replicas available for rdd_187_122 !\n",
            "24/02/21 15:01:23 WARN BlockManagerMasterEndpoint: No more replicas available for rdd_91_115 !\n",
            "24/02/21 15:01:23 WARN BlockManagerMasterEndpoint: No more replicas available for rdd_181_61 !\n",
            "24/02/21 15:01:23 WARN BlockManagerMasterEndpoint: No more replicas available for rdd_191_36 !\n",
            "24/02/21 15:01:23 WARN BlockManagerMasterEndpoint: No more replicas available for rdd_191_24 !\n",
            "24/02/21 15:01:23 WARN BlockManagerMasterEndpoint: No more replicas available for rdd_99_98 !\n",
            "24/02/21 15:01:23 WARN BlockManagerMasterEndpoint: No more replicas available for rdd_191_7 !\n",
            "24/02/21 15:01:23 WARN BlockManagerMasterEndpoint: No more replicas available for rdd_99_83 !\n",
            "24/02/21 15:01:23 WARN BlockManagerMasterEndpoint: No more replicas available for rdd_187_115 !\n",
            "24/02/21 15:01:23 WARN BlockManagerMasterEndpoint: No more replicas available for rdd_181_82 !\n",
            "24/02/21 15:01:23 WARN BlockManagerMasterEndpoint: No more replicas available for rdd_99_53 !\n",
            "24/02/21 15:01:23 WARN BlockManagerMasterEndpoint: No more replicas available for rdd_99_99 !\n",
            "24/02/21 15:01:23 WARN BlockManagerMasterEndpoint: No more replicas available for rdd_191_77 !\n",
            "24/02/21 15:01:23 WARN BlockManagerMasterEndpoint: No more replicas available for rdd_191_25 !\n",
            "24/02/21 15:01:23 WARN BlockManagerMasterEndpoint: No more replicas available for rdd_191_76 !\n",
            "24/02/21 15:01:23 WARN BlockManagerMasterEndpoint: No more replicas available for rdd_191_99 !\n",
            "24/02/21 15:01:23 WARN BlockManagerMasterEndpoint: No more replicas available for rdd_89_7 !\n",
            "24/02/21 15:01:23 WARN BlockManagerMasterEndpoint: No more replicas available for rdd_99_7 !\n",
            "24/02/21 15:01:23 WARN BlockManagerMasterEndpoint: No more replicas available for rdd_99_10 !\n",
            "24/02/21 15:01:23 WARN BlockManagerMasterEndpoint: No more replicas available for rdd_89_52 !\n",
            "24/02/21 15:01:23 WARN BlockManagerMasterEndpoint: No more replicas available for rdd_181_52 !\n",
            "24/02/21 15:01:23 WARN BlockManagerMasterEndpoint: No more replicas available for rdd_91_122 !\n",
            "24/02/21 15:01:23 WARN BlockManagerMasterEndpoint: No more replicas available for rdd_191_3 !\n",
            "24/02/21 15:01:23 WARN BlockManagerMasterEndpoint: No more replicas available for rdd_181_67 !\n",
            "24/02/21 15:01:23 WARN BlockManagerMasterEndpoint: No more replicas available for rdd_191_66 !\n",
            "24/02/21 15:01:23 WARN BlockManagerMasterEndpoint: No more replicas available for rdd_87_120 !\n",
            "24/02/21 15:01:23 WARN BlockManagerMasterEndpoint: No more replicas available for rdd_181_114 !\n",
            "24/02/21 15:01:23 WARN BlockManagerMasterEndpoint: No more replicas available for rdd_181_36 !\n",
            "24/02/21 15:01:23 WARN BlockManagerMasterEndpoint: No more replicas available for rdd_87_115 !\n",
            "24/02/21 15:01:23 WARN BlockManagerMasterEndpoint: No more replicas available for rdd_181_122 !\n",
            "24/02/21 15:01:23 WARN BlockManagerMasterEndpoint: No more replicas available for rdd_84_90 !\n",
            "24/02/21 15:01:23 WARN BlockManagerMasterEndpoint: No more replicas available for rdd_99_9 !\n",
            "24/02/21 15:01:23 WARN BlockManagerMasterEndpoint: No more replicas available for rdd_89_99 !\n",
            "24/02/21 15:01:23 WARN BlockManagerMasterEndpoint: No more replicas available for rdd_99_44 !\n",
            "24/02/21 15:01:23 WARN BlockManagerMasterEndpoint: No more replicas available for rdd_84_45 !\n",
            "24/02/21 15:01:23 WARN BlockManagerMasterEndpoint: No more replicas available for rdd_84_83 !\n",
            "24/02/21 15:01:23 WARN BlockManagerMasterEndpoint: No more replicas available for rdd_84_10 !\n",
            "24/02/21 15:01:23 WARN BlockManagerMasterEndpoint: No more replicas available for rdd_84_106 !\n",
            "24/02/21 15:01:23 WARN BlockManagerMasterEndpoint: No more replicas available for rdd_89_120 !\n",
            "24/02/21 15:01:23 WARN BlockManagerMasterEndpoint: No more replicas available for rdd_191_82 !\n",
            "24/02/21 15:01:23 WARN BlockManagerMasterEndpoint: No more replicas available for rdd_89_9 !\n",
            "24/02/21 15:01:23 WARN BlockManagerMasterEndpoint: No more replicas available for rdd_99_52 !\n",
            "24/02/21 15:01:23 WARN BlockManagerMasterEndpoint: No more replicas available for rdd_99_24 !\n",
            "24/02/21 15:01:23 WARN BlockManagerMasterEndpoint: No more replicas available for rdd_181_60 !\n",
            "24/02/21 15:01:23 WARN BlockManagerMasterEndpoint: No more replicas available for rdd_84_17 !\n",
            "24/02/21 15:01:23 WARN BlockManagerMasterEndpoint: No more replicas available for rdd_191_60 !\n",
            "24/02/21 15:01:23 WARN BlockManagerMasterEndpoint: No more replicas available for rdd_99_122 !\n",
            "24/02/21 15:01:23 WARN BlockManagerMasterEndpoint: No more replicas available for rdd_191_10 !\n",
            "24/02/21 15:01:23 WARN BlockManagerMasterEndpoint: No more replicas available for rdd_84_53 !\n",
            "24/02/21 15:01:23 WARN BlockManagerMasterEndpoint: No more replicas available for rdd_181_10 !\n",
            "24/02/21 15:01:23 WARN BlockManagerMasterEndpoint: No more replicas available for rdd_191_37 !\n",
            "24/02/21 15:01:23 WARN BlockManagerMasterEndpoint: No more replicas available for rdd_191_30 !\n",
            "24/02/21 15:01:23 WARN BlockManagerMasterEndpoint: No more replicas available for rdd_89_30 !\n",
            "24/02/21 15:01:23 WARN BlockManagerMasterEndpoint: No more replicas available for rdd_89_45 !\n",
            "24/02/21 15:01:23 WARN BlockManagerMasterEndpoint: No more replicas available for rdd_84_77 !\n",
            "24/02/21 15:01:23 WARN BlockManagerMasterEndpoint: No more replicas available for rdd_191_90 !\n",
            "24/02/21 15:01:23 WARN BlockManagerMasterEndpoint: No more replicas available for rdd_99_90 !\n",
            "24/02/21 15:01:23 WARN BlockManagerMasterEndpoint: No more replicas available for rdd_99_120 !\n",
            "24/02/21 15:01:23 WARN BlockManagerMasterEndpoint: No more replicas available for rdd_191_67 !\n",
            "24/02/21 15:01:23 WARN BlockManagerMasterEndpoint: No more replicas available for rdd_181_24 !\n",
            "24/02/21 15:01:23 WARN BlockManagerMasterEndpoint: No more replicas available for rdd_84_98 !\n",
            "24/02/21 15:01:23 WARN BlockManagerMasterEndpoint: No more replicas available for rdd_89_17 !\n",
            "24/02/21 15:01:23 WARN BlockManagerMasterEndpoint: No more replicas available for rdd_99_115 !\n",
            "24/02/21 15:01:23 WARN BlockManagerMasterEndpoint: No more replicas available for rdd_89_66 !\n",
            "24/02/21 15:01:23 WARN BlockManagerMasterEndpoint: No more replicas available for rdd_99_92 !\n",
            "24/02/21 15:01:23 WARN BlockManagerMasterEndpoint: No more replicas available for rdd_181_66 !\n",
            "24/02/21 15:01:23 WARN BlockManagerMasterEndpoint: No more replicas available for rdd_89_122 !\n",
            "24/02/21 15:01:23 WARN BlockManagerMasterEndpoint: No more replicas available for rdd_89_24 !\n",
            "24/02/21 15:01:23 WARN BlockManagerMasterEndpoint: No more replicas available for rdd_181_16 !\n",
            "24/02/21 15:01:23 WARN BlockManagerMasterEndpoint: No more replicas available for rdd_187_120 !\n",
            "24/02/21 15:01:23 WARN BlockManagerMasterEndpoint: No more replicas available for rdd_84_120 !\n",
            "24/02/21 15:01:23 WARN BlockManagerMasterEndpoint: No more replicas available for rdd_191_45 !\n",
            "24/02/21 15:01:23 WARN BlockManagerMasterEndpoint: No more replicas available for rdd_84_7 !\n",
            "24/02/21 15:01:23 WARN BlockManagerMasterEndpoint: No more replicas available for rdd_181_37 !\n",
            "24/02/21 15:01:23 WARN BlockManagerMasterEndpoint: No more replicas available for rdd_181_115 !\n",
            "24/02/21 15:01:23 WARN BlockManagerMasterEndpoint: No more replicas available for rdd_87_122 !\n",
            "24/02/21 15:01:23 WARN BlockManagerMasterEndpoint: No more replicas available for rdd_84_82 !\n",
            "24/02/21 15:01:23 WARN BlockManagerMasterEndpoint: No more replicas available for rdd_191_9 !\n",
            "24/02/21 15:01:23 WARN BlockManagerMasterEndpoint: No more replicas available for rdd_181_76 !\n",
            "24/02/21 15:01:23 WARN BlockManagerMasterEndpoint: No more replicas available for rdd_99_105 !\n",
            "24/02/21 15:01:23 WARN BlockManagerMasterEndpoint: No more replicas available for rdd_99_16 !\n",
            "24/02/21 15:01:23 WARN BlockManagerMasterEndpoint: No more replicas available for rdd_181_9 !\n",
            "24/02/21 15:01:23 WARN BlockManagerMasterEndpoint: No more replicas available for rdd_99_67 !\n",
            "24/02/21 15:01:23 WARN BlockManagerMasterEndpoint: No more replicas available for rdd_101_120 !\n",
            "24/02/21 15:01:23 WARN BlockManagerMasterEndpoint: No more replicas available for rdd_84_60 !\n",
            "24/02/21 15:01:23 WARN BlockManagerMasterEndpoint: No more replicas available for rdd_84_67 !\n",
            "24/02/21 15:01:23 WARN BlockManagerMasterEndpoint: No more replicas available for rdd_84_25 !\n",
            "24/02/21 15:01:23 WARN BlockManagerMasterEndpoint: No more replicas available for rdd_89_106 !\n",
            "24/02/21 15:01:23 WARN BlockManagerMasterEndpoint: No more replicas available for rdd_181_3 !\n",
            "24/02/21 15:01:23 WARN BlockManagerMasterEndpoint: No more replicas available for rdd_89_61 !\n",
            "24/02/21 15:01:23 WARN BlockManagerMasterEndpoint: No more replicas available for rdd_84_30 !\n",
            "24/02/21 15:01:23 WARN BlockManagerMasterEndpoint: No more replicas available for rdd_191_115 !\n",
            "24/02/21 15:01:23 WARN BlockManagerMasterEndpoint: No more replicas available for rdd_99_30 !\n",
            "24/02/21 15:01:23 WARN BlockManagerMasterEndpoint: No more replicas available for rdd_84_115 !\n",
            "24/02/21 15:01:23 WARN BlockManagerMasterEndpoint: No more replicas available for rdd_99_3 !\n",
            "24/02/21 15:01:23 WARN BlockManagerMasterEndpoint: No more replicas available for rdd_191_61 !\n",
            "24/02/21 15:01:23 WARN BlockManagerMasterEndpoint: No more replicas available for rdd_181_105 !\n",
            "24/02/21 15:01:23 WARN BlockManagerMasterEndpoint: No more replicas available for rdd_84_52 !\n",
            "24/02/21 15:01:23 WARN BlockManagerMasterEndpoint: No more replicas available for rdd_99_77 !\n",
            "24/02/21 15:01:23 WARN BlockManagerMasterEndpoint: No more replicas available for rdd_99_114 !\n",
            "24/02/21 15:01:23 WARN BlockManagerMasterEndpoint: No more replicas available for rdd_84_16 !\n",
            "24/02/21 15:01:23 WARN BlockManagerMasterEndpoint: No more replicas available for rdd_191_31 !\n",
            "24/02/21 15:01:23 WARN BlockManagerMasterEndpoint: No more replicas available for rdd_89_105 !\n",
            "24/02/21 15:01:23 WARN BlockManagerMasterEndpoint: No more replicas available for rdd_181_7 !\n",
            "24/02/21 15:01:23 WARN BlockManagerMasterEndpoint: No more replicas available for rdd_84_36 !\n",
            "24/02/21 15:01:23 WARN BlockManagerMasterEndpoint: No more replicas available for rdd_84_24 !\n",
            "24/02/21 15:01:23 WARN BlockManagerMasterEndpoint: No more replicas available for rdd_181_106 !\n",
            "24/02/21 15:01:23 WARN BlockManagerMasterEndpoint: No more replicas available for rdd_191_106 !\n",
            "24/02/21 15:01:23 WARN BlockManagerMasterEndpoint: No more replicas available for rdd_89_60 !\n",
            "24/02/21 15:01:23 WARN BlockManagerMasterEndpoint: No more replicas available for rdd_84_99 !\n",
            "24/02/21 15:01:23 WARN BlockManagerMasterEndpoint: No more replicas available for rdd_89_114 !\n",
            "24/02/21 15:01:23 WARN BlockManagerMasterEndpoint: No more replicas available for rdd_99_61 !\n",
            "24/02/21 15:01:23 WARN BlockManagerMasterEndpoint: No more replicas available for rdd_89_92 !\n",
            "24/02/21 15:01:23 WARN BlockManagerMasterEndpoint: No more replicas available for rdd_89_10 !\n",
            "24/02/21 15:01:23 WARN BlockManagerMasterEndpoint: No more replicas available for rdd_89_90 !\n",
            "24/02/21 15:01:23 WARN BlockManagerMasterEndpoint: No more replicas available for rdd_181_83 !\n",
            "24/02/21 15:01:23 WARN BlockManagerMasterEndpoint: No more replicas available for rdd_181_30 !\n",
            "24/02/21 15:01:23 WARN BlockManagerMasterEndpoint: No more replicas available for rdd_191_120 !\n",
            "24/02/21 15:01:23 WARN YarnAllocator: Container from a bad node: container_1708509413190_0003_01_000013 on host: cluster-ee96-w-0.c.e7zor3.internal. Exit status: 143. Diagnostics: [2024-02-21 15:01:22.941]Container killed on request. Exit code is 143\n",
            "[2024-02-21 15:01:22.941]Container exited with a non-zero exit code 143. \n",
            "[2024-02-21 15:01:22.941]Killed by external signal\n",
            ".\n",
            "24/02/21 15:01:23 WARN BlockManagerMasterEndpoint: No more replicas available for rdd_89_67 !\n",
            "24/02/21 15:01:23 WARN BlockManagerMasterEndpoint: No more replicas available for rdd_181_17 !\n",
            "24/02/21 15:01:23 WARN BlockManagerMasterEndpoint: No more replicas available for rdd_101_115 !\n",
            "24/02/21 15:01:23 WARN YarnSchedulerBackend$YarnSchedulerEndpoint: Requesting driver to remove executor 13 for reason Container from a bad node: container_1708509413190_0003_01_000013 on host: cluster-ee96-w-0.c.e7zor3.internal. Exit status: 143. Diagnostics: [2024-02-21 15:01:22.941]Container killed on request. Exit code is 143\n",
            "[2024-02-21 15:01:22.941]Container exited with a non-zero exit code 143. \n",
            "[2024-02-21 15:01:22.941]Killed by external signal\n",
            ".\n",
            "24/02/21 15:01:23 WARN BlockManagerMasterEndpoint: No more replicas available for rdd_99_17 !\n",
            "24/02/21 15:01:23 WARN BlockManagerMasterEndpoint: No more replicas available for rdd_99_60 !\n",
            "24/02/21 15:01:23 WARN BlockManagerMasterEndpoint: No more replicas available for rdd_89_76 !\n",
            "24/02/21 15:01:23 WARN BlockManagerMasterEndpoint: No more replicas available for rdd_191_122 !\n",
            "24/02/21 15:01:23 WARN BlockManagerMasterEndpoint: No more replicas available for rdd_99_37 !\n",
            "24/02/21 15:01:23 WARN BlockManagerMasterEndpoint: No more replicas available for rdd_89_37 !\n",
            "24/02/21 15:01:23 WARN BlockManagerMasterEndpoint: No more replicas available for rdd_84_44 !\n",
            "24/02/21 15:01:23 WARN BlockManagerMasterEndpoint: No more replicas available for rdd_84_61 !\n",
            "24/02/21 15:01:23 WARN BlockManagerMasterEndpoint: No more replicas available for rdd_84_122 !\n",
            "24/02/21 15:01:23 WARN BlockManagerMasterEndpoint: No more replicas available for rdd_99_25 !\n",
            "24/02/21 15:01:23 WARN BlockManagerMasterEndpoint: No more replicas available for rdd_84_31 !\n",
            "24/02/21 15:01:23 WARN BlockManagerMasterEndpoint: No more replicas available for rdd_99_82 !\n",
            "24/02/21 15:01:23 WARN BlockManagerMasterEndpoint: No more replicas available for rdd_181_25 !\n",
            "24/02/21 15:01:23 WARN BlockManagerMasterEndpoint: No more replicas available for rdd_89_31 !\n",
            "24/02/21 15:01:23 WARN BlockManagerMasterEndpoint: No more replicas available for rdd_91_120 !\n",
            "24/02/21 15:01:23 WARN BlockManagerMasterEndpoint: No more replicas available for rdd_181_31 !\n",
            "24/02/21 15:01:23 WARN BlockManagerMasterEndpoint: No more replicas available for rdd_89_3 !\n",
            "24/02/21 15:01:23 WARN BlockManagerMasterEndpoint: No more replicas available for rdd_191_53 !\n",
            "24/02/21 15:01:23 ERROR YarnScheduler: Lost executor 13 on cluster-ee96-w-0.c.e7zor3.internal: Container from a bad node: container_1708509413190_0003_01_000013 on host: cluster-ee96-w-0.c.e7zor3.internal. Exit status: 143. Diagnostics: [2024-02-21 15:01:22.941]Container killed on request. Exit code is 143\n",
            "[2024-02-21 15:01:22.941]Container exited with a non-zero exit code 143. \n",
            "[2024-02-21 15:01:22.941]Killed by external signal\n",
            ".\n",
            "24/02/21 15:01:23 WARN BlockManagerMasterEndpoint: No more replicas available for rdd_181_53 !\n",
            "24/02/21 15:01:23 WARN BlockManagerMasterEndpoint: No more replicas available for rdd_181_99 !\n",
            "24/02/21 15:01:23 WARN TaskSetManager: Lost task 9.0 in stage 324.0 (TID 5673) (cluster-ee96-w-0.c.e7zor3.internal executor 13): ExecutorLostFailure (executor 13 exited caused by one of the running tasks) Reason: Container from a bad node: container_1708509413190_0003_01_000013 on host: cluster-ee96-w-0.c.e7zor3.internal. Exit status: 143. Diagnostics: [2024-02-21 15:01:22.941]Container killed on request. Exit code is 143\n",
            "[2024-02-21 15:01:22.941]Container exited with a non-zero exit code 143. \n",
            "[2024-02-21 15:01:22.941]Killed by external signal\n",
            ".\n",
            "24/02/21 15:01:23 WARN TaskSetManager: Lost task 5.0 in stage 324.0 (TID 5669) (cluster-ee96-w-0.c.e7zor3.internal executor 13): ExecutorLostFailure (executor 13 exited caused by one of the running tasks) Reason: Container from a bad node: container_1708509413190_0003_01_000013 on host: cluster-ee96-w-0.c.e7zor3.internal. Exit status: 143. Diagnostics: [2024-02-21 15:01:22.941]Container killed on request. Exit code is 143\n",
            "[2024-02-21 15:01:22.941]Container exited with a non-zero exit code 143. \n",
            "[2024-02-21 15:01:22.941]Killed by external signal\n",
            ".\n",
            "24/02/21 15:01:26 WARN YarnAllocator: Container from a bad node: container_1708509413190_0003_01_000015 on host: cluster-ee96-w-1.c.e7zor3.internal. Exit status: 143. Diagnostics: [2024-02-21 15:01:25.778]Container killed on request. Exit code is 143\n",
            "[2024-02-21 15:01:25.778]Container exited with a non-zero exit code 143. \n",
            "[2024-02-21 15:01:25.779]Killed by external signal\n",
            ".\n",
            "24/02/21 15:01:26 WARN YarnSchedulerBackend$YarnSchedulerEndpoint: Requesting driver to remove executor 15 for reason Container from a bad node: container_1708509413190_0003_01_000015 on host: cluster-ee96-w-1.c.e7zor3.internal. Exit status: 143. Diagnostics: [2024-02-21 15:01:25.778]Container killed on request. Exit code is 143\n",
            "[2024-02-21 15:01:25.778]Container exited with a non-zero exit code 143. \n",
            "[2024-02-21 15:01:25.779]Killed by external signal\n",
            ".\n",
            "24/02/21 15:01:26 ERROR YarnScheduler: Lost executor 15 on cluster-ee96-w-1.c.e7zor3.internal: Container from a bad node: container_1708509413190_0003_01_000015 on host: cluster-ee96-w-1.c.e7zor3.internal. Exit status: 143. Diagnostics: [2024-02-21 15:01:25.778]Container killed on request. Exit code is 143\n",
            "[2024-02-21 15:01:25.778]Container exited with a non-zero exit code 143. \n",
            "[2024-02-21 15:01:25.779]Killed by external signal\n",
            ".\n",
            "24/02/21 15:01:26 WARN TaskSetManager: Lost task 12.0 in stage 324.0 (TID 5676) (cluster-ee96-w-1.c.e7zor3.internal executor 15): ExecutorLostFailure (executor 15 exited caused by one of the running tasks) Reason: Container from a bad node: container_1708509413190_0003_01_000015 on host: cluster-ee96-w-1.c.e7zor3.internal. Exit status: 143. Diagnostics: [2024-02-21 15:01:25.778]Container killed on request. Exit code is 143\n",
            "[2024-02-21 15:01:25.778]Container exited with a non-zero exit code 143. \n",
            "[2024-02-21 15:01:25.779]Killed by external signal\n",
            ".\n",
            "24/02/21 15:01:26 WARN TaskSetManager: Lost task 15.0 in stage 324.0 (TID 5679) (cluster-ee96-w-1.c.e7zor3.internal executor 15): ExecutorLostFailure (executor 15 exited caused by one of the running tasks) Reason: Container from a bad node: container_1708509413190_0003_01_000015 on host: cluster-ee96-w-1.c.e7zor3.internal. Exit status: 143. Diagnostics: [2024-02-21 15:01:25.778]Container killed on request. Exit code is 143\n",
            "[2024-02-21 15:01:25.778]Container exited with a non-zero exit code 143. \n",
            "[2024-02-21 15:01:25.779]Killed by external signal\n",
            ".\n",
            "                                                                                \r"
          ]
        }
      ],
      "source": [
        "# BODY\n",
        "# time the index creation time\n",
        "t_start = time()\n",
        "# word counts map\n",
        "word_counts = doc_text_pairs.flatMap(lambda x: word_count(x[0], x[1]))\n",
        "postings = word_counts.groupByKey().mapValues(reduce_word_counts)\n",
        "# filtering postings and calculate df\n",
        "postings_filtered = postings.filter(lambda x: len(x[1])>50)\n",
        "w2df = calculate_df(postings_filtered)\n",
        "w2df_dict = w2df.collectAsMap()\n",
        "# partition posting lists and write out\n",
        "_ = partition_postings_and_write(postings_filtered).collect()\n",
        "index_const_time = time() - t_start"
      ]
    },
    {
      "cell_type": "code",
      "execution_count": null,
      "id": "3dbc0e14",
      "metadata": {
        "id": "3dbc0e14",
        "nbgrader": {
          "grade": true,
          "grade_id": "cell-index_const_time",
          "locked": true,
          "points": 10,
          "schema_version": 3,
          "solution": false,
          "task": false
        }
      },
      "outputs": [],
      "source": [
        "# test index construction time\n",
        "assert index_const_time < 2*60*120"
      ]
    },
    {
      "cell_type": "code",
      "execution_count": null,
      "id": "ab3296f4",
      "metadata": {
        "id": "ab3296f4",
        "nbgrader": {
          "grade": true,
          "grade_id": "collect-posting",
          "locked": true,
          "points": 0,
          "schema_version": 3,
          "solution": false,
          "task": false
        }
      },
      "outputs": [],
      "source": [
        "# collect all posting lists locations into one super-set\n",
        "super_posting_locs = defaultdict(list)\n",
        "for blob in client.list_blobs(bucket_name, prefix='postings_gcp'):\n",
        "    if not blob.name.endswith(\"pickle\"):\n",
        "        continue\n",
        "    with blob.open(\"rb\") as f:\n",
        "        posting_locs = pickle.load(f)\n",
        "    for k, v in posting_locs.items():\n",
        "        super_posting_locs[k].extend(v)"
      ]
    },
    {
      "cell_type": "markdown",
      "id": "f6f66e3a",
      "metadata": {
        "id": "f6f66e3a"
      },
      "source": [
        "Putting it all together"
      ]
    },
    {
      "cell_type": "code",
      "execution_count": null,
      "id": "a5d2cfb6",
      "metadata": {
        "id": "a5d2cfb6",
        "outputId": "91989248-8ebf-47c3-808f-4b9810a6bc88"
      },
      "outputs": [
        {
          "name": "stdout",
          "output_type": "stream",
          "text": [
            "Copying file://index.pkl [Content-Type=application/octet-stream]...\n",
            "/ [1 files][ 18.4 MiB/ 18.4 MiB]                                                \n",
            "Operation completed over 1 objects/18.4 MiB.                                     \n"
          ]
        }
      ],
      "source": [
        "# Create inverted index instance\n",
        "inverted = InvertedIndex()\n",
        "# Adding the posting locations dictionary to the inverted index\n",
        "inverted.posting_locs = super_posting_locs\n",
        "# Add the token - df dictionary to the inverted index\n",
        "inverted.df = w2df_dict\n",
        "# write the global stats out\n",
        "inverted.write_index('.', 'index')\n",
        "# upload to gs\n",
        "index_src = \"index.pkl\"\n",
        "index_dst = f'gs://{bucket_name}/postings_gcp/{index_src}'\n",
        "!gsutil cp $index_src $index_dst"
      ]
    },
    {
      "cell_type": "code",
      "execution_count": null,
      "id": "8f880d59",
      "metadata": {
        "id": "8f880d59",
        "nbgrader": {
          "grade": false,
          "grade_id": "cell-index_dst_size",
          "locked": true,
          "schema_version": 3,
          "solution": false,
          "task": false
        },
        "outputId": "25cbe99b-8acf-48ac-f0b4-0a800d1d7b3b"
      },
      "outputs": [
        {
          "name": "stdout",
          "output_type": "stream",
          "text": [
            " 18.45 MiB  2024-02-21T18:26:20Z  gs://ehzor324/postings_gcp/index.pkl\r\n",
            "TOTAL: 1 objects, 19342406 bytes (18.45 MiB)\r\n"
          ]
        }
      ],
      "source": [
        "!gsutil ls -lh $index_dst"
      ]
    },
    {
      "cell_type": "markdown",
      "id": "c52dee14",
      "metadata": {
        "id": "c52dee14",
        "nbgrader": {
          "grade": false,
          "grade_id": "cell-2a6d655c112e79c5",
          "locked": true,
          "schema_version": 3,
          "solution": false,
          "task": false
        }
      },
      "source": [
        "# PageRank"
      ]
    },
    {
      "cell_type": "markdown",
      "id": "0875c6bd",
      "metadata": {
        "id": "0875c6bd",
        "nbgrader": {
          "grade": false,
          "grade_id": "cell-2fee4bc8d83c1e2a",
          "locked": true,
          "schema_version": 3,
          "solution": false,
          "task": false
        }
      },
      "source": [
        "**YOUR TASK (10 POINTS):** Compute PageRank for the entire English Wikipedia. Use your implementation for `generate_graph` function from Colab below."
      ]
    },
    {
      "cell_type": "code",
      "execution_count": null,
      "id": "31a516e2",
      "metadata": {
        "id": "31a516e2"
      },
      "outputs": [],
      "source": [
        "# Put your `generate_graph` function here\n",
        "def generate_graph(pages):\n",
        "    edges = pages.flatMap(lambda page: [(page[0], link[0]) for link in page[1]])\n",
        "    edges = edges.distinct()\n",
        "    vertices_src = pages.map(lambda page: (page[0],))\n",
        "    vertices_anchr = pages.flatMap(lambda page: page[1]).map(lambda link: (link[0],))\n",
        "    vertices = vertices_src.union(vertices_anchr).distinct()\n",
        "    return edges, vertices"
      ]
    },
    {
      "cell_type": "code",
      "execution_count": null,
      "id": "6bc05ba3",
      "metadata": {
        "id": "6bc05ba3",
        "nbgrader": {
          "grade": false,
          "grade_id": "cell-PageRank",
          "locked": false,
          "schema_version": 3,
          "solution": true,
          "task": false
        },
        "outputId": "8c0128b0-e88f-4f8d-d317-36f532119644"
      },
      "outputs": [
        {
          "name": "stderr",
          "output_type": "stream",
          "text": [
            "24/02/21 14:17:48 WARN YarnAllocator: Container from a bad node: container_1708509413190_0003_01_000008 on host: cluster-ee96-w-1.c.e7zor3.internal. Exit status: 143. Diagnostics: [2024-02-21 14:17:48.102]Container killed on request. Exit code is 143\n",
            "[2024-02-21 14:17:48.107]Container exited with a non-zero exit code 143. \n",
            "[2024-02-21 14:17:48.108]Killed by external signal\n",
            ".\n",
            "24/02/21 14:17:48 WARN YarnSchedulerBackend$YarnSchedulerEndpoint: Requesting driver to remove executor 8 for reason Container from a bad node: container_1708509413190_0003_01_000008 on host: cluster-ee96-w-1.c.e7zor3.internal. Exit status: 143. Diagnostics: [2024-02-21 14:17:48.102]Container killed on request. Exit code is 143\n",
            "[2024-02-21 14:17:48.107]Container exited with a non-zero exit code 143. \n",
            "[2024-02-21 14:17:48.108]Killed by external signal\n",
            ".\n",
            "24/02/21 14:17:48 ERROR YarnScheduler: Lost executor 8 on cluster-ee96-w-1.c.e7zor3.internal: Container from a bad node: container_1708509413190_0003_01_000008 on host: cluster-ee96-w-1.c.e7zor3.internal. Exit status: 143. Diagnostics: [2024-02-21 14:17:48.102]Container killed on request. Exit code is 143\n",
            "[2024-02-21 14:17:48.107]Container exited with a non-zero exit code 143. \n",
            "[2024-02-21 14:17:48.108]Killed by external signal\n",
            ".\n",
            "24/02/21 14:17:48 WARN TaskSetManager: Lost task 139.0 in stage 12.0 (TID 946) (cluster-ee96-w-1.c.e7zor3.internal executor 8): ExecutorLostFailure (executor 8 exited caused by one of the running tasks) Reason: Container from a bad node: container_1708509413190_0003_01_000008 on host: cluster-ee96-w-1.c.e7zor3.internal. Exit status: 143. Diagnostics: [2024-02-21 14:17:48.102]Container killed on request. Exit code is 143\n",
            "[2024-02-21 14:17:48.107]Container exited with a non-zero exit code 143. \n",
            "[2024-02-21 14:17:48.108]Killed by external signal\n",
            ".\n",
            "24/02/21 14:17:48 WARN TaskSetManager: Lost task 129.0 in stage 12.0 (TID 936) (cluster-ee96-w-1.c.e7zor3.internal executor 8): ExecutorLostFailure (executor 8 exited caused by one of the running tasks) Reason: Container from a bad node: container_1708509413190_0003_01_000008 on host: cluster-ee96-w-1.c.e7zor3.internal. Exit status: 143. Diagnostics: [2024-02-21 14:17:48.102]Container killed on request. Exit code is 143\n",
            "[2024-02-21 14:17:48.107]Container exited with a non-zero exit code 143. \n",
            "[2024-02-21 14:17:48.108]Killed by external signal\n",
            ".\n",
            "/usr/lib/spark/python/pyspark/sql/dataframe.py:148: UserWarning: DataFrame.sql_ctx is an internal property, and will be removed in future releases. Use DataFrame.sparkSession instead.\n",
            "  warnings.warn(\n",
            "24/02/21 14:23:23 WARN YarnAllocator: Container from a bad node: container_1708509413190_0003_01_000009 on host: cluster-ee96-w-1.c.e7zor3.internal. Exit status: 143. Diagnostics: [2024-02-21 14:23:23.453]Container killed on request. Exit code is 143\n",
            "[2024-02-21 14:23:23.453]Container exited with a non-zero exit code 143. \n",
            "[2024-02-21 14:23:23.454]Killed by external signal\n",
            ".\n",
            "24/02/21 14:23:23 ERROR YarnScheduler: Lost executor 9 on cluster-ee96-w-1.c.e7zor3.internal: Container from a bad node: container_1708509413190_0003_01_000009 on host: cluster-ee96-w-1.c.e7zor3.internal. Exit status: 143. Diagnostics: [2024-02-21 14:23:23.453]Container killed on request. Exit code is 143\n",
            "[2024-02-21 14:23:23.453]Container exited with a non-zero exit code 143. \n",
            "[2024-02-21 14:23:23.454]Killed by external signal\n",
            ".\n",
            "24/02/21 14:23:23 WARN YarnSchedulerBackend$YarnSchedulerEndpoint: Requesting driver to remove executor 9 for reason Container from a bad node: container_1708509413190_0003_01_000009 on host: cluster-ee96-w-1.c.e7zor3.internal. Exit status: 143. Diagnostics: [2024-02-21 14:23:23.453]Container killed on request. Exit code is 143\n",
            "[2024-02-21 14:23:23.453]Container exited with a non-zero exit code 143. \n",
            "[2024-02-21 14:23:23.454]Killed by external signal\n",
            ".\n",
            "24/02/21 14:23:23 WARN TaskSetManager: Lost task 23.0 in stage 17.0 (TID 1329) (cluster-ee96-w-1.c.e7zor3.internal executor 9): ExecutorLostFailure (executor 9 exited caused by one of the running tasks) Reason: Container from a bad node: container_1708509413190_0003_01_000009 on host: cluster-ee96-w-1.c.e7zor3.internal. Exit status: 143. Diagnostics: [2024-02-21 14:23:23.453]Container killed on request. Exit code is 143\n",
            "[2024-02-21 14:23:23.453]Container exited with a non-zero exit code 143. \n",
            "[2024-02-21 14:23:23.454]Killed by external signal\n",
            ".\n",
            "24/02/21 14:23:23 WARN TaskSetManager: Lost task 17.0 in stage 17.0 (TID 1323) (cluster-ee96-w-1.c.e7zor3.internal executor 9): ExecutorLostFailure (executor 9 exited caused by one of the running tasks) Reason: Container from a bad node: container_1708509413190_0003_01_000009 on host: cluster-ee96-w-1.c.e7zor3.internal. Exit status: 143. Diagnostics: [2024-02-21 14:23:23.453]Container killed on request. Exit code is 143\n",
            "[2024-02-21 14:23:23.453]Container exited with a non-zero exit code 143. \n",
            "[2024-02-21 14:23:23.454]Killed by external signal\n",
            ".\n",
            "24/02/21 14:23:32 WARN YarnAllocator: Container from a bad node: container_1708509413190_0003_01_000010 on host: cluster-ee96-w-0.c.e7zor3.internal. Exit status: 137. Diagnostics: [2024-02-21 14:23:31.955]Container killed on request. Exit code is 137\n",
            "[2024-02-21 14:23:31.964]Container exited with a non-zero exit code 137. \n",
            "[2024-02-21 14:23:31.975]Killed by external signal\n",
            ".\n",
            "24/02/21 14:23:32 ERROR YarnScheduler: Lost executor 10 on cluster-ee96-w-0.c.e7zor3.internal: Container from a bad node: container_1708509413190_0003_01_000010 on host: cluster-ee96-w-0.c.e7zor3.internal. Exit status: 137. Diagnostics: [2024-02-21 14:23:31.955]Container killed on request. Exit code is 137\n",
            "[2024-02-21 14:23:31.964]Container exited with a non-zero exit code 137. \n",
            "[2024-02-21 14:23:31.975]Killed by external signal\n",
            ".\n",
            "24/02/21 14:23:32 WARN YarnSchedulerBackend$YarnSchedulerEndpoint: Requesting driver to remove executor 10 for reason Container from a bad node: container_1708509413190_0003_01_000010 on host: cluster-ee96-w-0.c.e7zor3.internal. Exit status: 137. Diagnostics: [2024-02-21 14:23:31.955]Container killed on request. Exit code is 137\n",
            "[2024-02-21 14:23:31.964]Container exited with a non-zero exit code 137. \n",
            "[2024-02-21 14:23:31.975]Killed by external signal\n",
            ".\n",
            "24/02/21 14:23:32 WARN TaskSetManager: Lost task 33.0 in stage 17.0 (TID 1341) (cluster-ee96-w-0.c.e7zor3.internal executor 10): ExecutorLostFailure (executor 10 exited caused by one of the running tasks) Reason: Container from a bad node: container_1708509413190_0003_01_000010 on host: cluster-ee96-w-0.c.e7zor3.internal. Exit status: 137. Diagnostics: [2024-02-21 14:23:31.955]Container killed on request. Exit code is 137\n",
            "[2024-02-21 14:23:31.964]Container exited with a non-zero exit code 137. \n",
            "[2024-02-21 14:23:31.975]Killed by external signal\n",
            ".\n",
            "24/02/21 14:23:32 WARN TaskSetManager: Lost task 29.0 in stage 17.0 (TID 1337) (cluster-ee96-w-0.c.e7zor3.internal executor 10): ExecutorLostFailure (executor 10 exited caused by one of the running tasks) Reason: Container from a bad node: container_1708509413190_0003_01_000010 on host: cluster-ee96-w-0.c.e7zor3.internal. Exit status: 137. Diagnostics: [2024-02-21 14:23:31.955]Container killed on request. Exit code is 137\n",
            "[2024-02-21 14:23:31.964]Container exited with a non-zero exit code 137. \n",
            "[2024-02-21 14:23:31.975]Killed by external signal\n",
            ".\n",
            "24/02/21 14:25:31 WARN BlockManagerMasterEndpoint: No more replicas available for rdd_91_2 !\n",
            "24/02/21 14:25:31 WARN BlockManagerMasterEndpoint: No more replicas available for rdd_91_6 !\n",
            "24/02/21 14:25:31 WARN BlockManagerMasterEndpoint: No more replicas available for rdd_87_2 !\n",
            "24/02/21 14:25:31 WARN BlockManagerMasterEndpoint: No more replicas available for rdd_87_6 !\n",
            "24/02/21 14:25:31 WARN YarnAllocator: Container from a bad node: container_1708509413190_0003_01_000002 on host: cluster-ee96-w-0.c.e7zor3.internal. Exit status: 137. Diagnostics: [2024-02-21 14:25:31.440]Container killed on request. Exit code is 137\n",
            "[2024-02-21 14:25:31.440]Container exited with a non-zero exit code 137. \n",
            "[2024-02-21 14:25:31.440]Killed by external signal\n",
            ".\n",
            "24/02/21 14:25:31 WARN YarnSchedulerBackend$YarnSchedulerEndpoint: Requesting driver to remove executor 2 for reason Container from a bad node: container_1708509413190_0003_01_000002 on host: cluster-ee96-w-0.c.e7zor3.internal. Exit status: 137. Diagnostics: [2024-02-21 14:25:31.440]Container killed on request. Exit code is 137\n",
            "[2024-02-21 14:25:31.440]Container exited with a non-zero exit code 137. \n",
            "[2024-02-21 14:25:31.440]Killed by external signal\n",
            ".\n",
            "24/02/21 14:25:31 ERROR YarnScheduler: Lost executor 2 on cluster-ee96-w-0.c.e7zor3.internal: Container from a bad node: container_1708509413190_0003_01_000002 on host: cluster-ee96-w-0.c.e7zor3.internal. Exit status: 137. Diagnostics: [2024-02-21 14:25:31.440]Container killed on request. Exit code is 137\n",
            "[2024-02-21 14:25:31.440]Container exited with a non-zero exit code 137. \n",
            "[2024-02-21 14:25:31.440]Killed by external signal\n",
            ".\n",
            "24/02/21 14:25:31 WARN TaskSetManager: Lost task 32.0 in stage 24.0 (TID 1636) (cluster-ee96-w-0.c.e7zor3.internal executor 2): ExecutorLostFailure (executor 2 exited caused by one of the running tasks) Reason: Container from a bad node: container_1708509413190_0003_01_000002 on host: cluster-ee96-w-0.c.e7zor3.internal. Exit status: 137. Diagnostics: [2024-02-21 14:25:31.440]Container killed on request. Exit code is 137\n",
            "[2024-02-21 14:25:31.440]Container exited with a non-zero exit code 137. \n",
            "[2024-02-21 14:25:31.440]Killed by external signal\n",
            ".\n",
            "24/02/21 14:25:31 WARN TaskSetManager: Lost task 34.0 in stage 24.0 (TID 1639) (cluster-ee96-w-0.c.e7zor3.internal executor 2): ExecutorLostFailure (executor 2 exited caused by one of the running tasks) Reason: Container from a bad node: container_1708509413190_0003_01_000002 on host: cluster-ee96-w-0.c.e7zor3.internal. Exit status: 137. Diagnostics: [2024-02-21 14:25:31.440]Container killed on request. Exit code is 137\n",
            "[2024-02-21 14:25:31.440]Container exited with a non-zero exit code 137. \n",
            "[2024-02-21 14:25:31.440]Killed by external signal\n",
            ".\n",
            "24/02/21 14:25:36 WARN BlockManagerMasterEndpoint: No more replicas available for rdd_87_0 !\n",
            "24/02/21 14:25:36 WARN BlockManagerMasterEndpoint: No more replicas available for rdd_91_0 !\n",
            "24/02/21 14:25:36 WARN BlockManagerMasterEndpoint: No more replicas available for rdd_87_4 !\n",
            "24/02/21 14:25:36 WARN BlockManagerMasterEndpoint: No more replicas available for rdd_91_4 !\n",
            "24/02/21 14:25:38 WARN YarnAllocator: Container from a bad node: container_1708509413190_0003_01_000011 on host: cluster-ee96-w-1.c.e7zor3.internal. Exit status: 143. Diagnostics: [2024-02-21 14:25:37.549]Container killed on request. Exit code is 143\n",
            "[2024-02-21 14:25:37.549]Container exited with a non-zero exit code 143. \n",
            "[2024-02-21 14:25:37.552]Killed by external signal\n",
            ".\n",
            "24/02/21 14:25:38 ERROR YarnScheduler: Lost executor 11 on cluster-ee96-w-1.c.e7zor3.internal: Container from a bad node: container_1708509413190_0003_01_000011 on host: cluster-ee96-w-1.c.e7zor3.internal. Exit status: 143. Diagnostics: [2024-02-21 14:25:37.549]Container killed on request. Exit code is 143\n",
            "[2024-02-21 14:25:37.549]Container exited with a non-zero exit code 143. \n",
            "[2024-02-21 14:25:37.552]Killed by external signal\n",
            ".\n",
            "24/02/21 14:25:38 WARN TaskSetManager: Lost task 33.0 in stage 24.0 (TID 1637) (cluster-ee96-w-1.c.e7zor3.internal executor 11): ExecutorLostFailure (executor 11 exited caused by one of the running tasks) Reason: Container from a bad node: container_1708509413190_0003_01_000011 on host: cluster-ee96-w-1.c.e7zor3.internal. Exit status: 143. Diagnostics: [2024-02-21 14:25:37.549]Container killed on request. Exit code is 143\n",
            "[2024-02-21 14:25:37.549]Container exited with a non-zero exit code 143. \n",
            "[2024-02-21 14:25:37.552]Killed by external signal\n",
            ".\n",
            "24/02/21 14:25:38 WARN YarnSchedulerBackend$YarnSchedulerEndpoint: Requesting driver to remove executor 11 for reason Container from a bad node: container_1708509413190_0003_01_000011 on host: cluster-ee96-w-1.c.e7zor3.internal. Exit status: 143. Diagnostics: [2024-02-21 14:25:37.549]Container killed on request. Exit code is 143\n",
            "[2024-02-21 14:25:37.549]Container exited with a non-zero exit code 143. \n",
            "[2024-02-21 14:25:37.552]Killed by external signal\n",
            ".\n",
            "24/02/21 14:25:38 WARN TaskSetManager: Lost task 35.0 in stage 24.0 (TID 1640) (cluster-ee96-w-1.c.e7zor3.internal executor 11): ExecutorLostFailure (executor 11 exited caused by one of the running tasks) Reason: Container from a bad node: container_1708509413190_0003_01_000011 on host: cluster-ee96-w-1.c.e7zor3.internal. Exit status: 143. Diagnostics: [2024-02-21 14:25:37.549]Container killed on request. Exit code is 143\n",
            "[2024-02-21 14:25:37.549]Container exited with a non-zero exit code 143. \n",
            "[2024-02-21 14:25:37.552]Killed by external signal\n",
            ".\n",
            "/usr/lib/spark/python/pyspark/sql/dataframe.py:127: UserWarning: DataFrame constructor is internal. Do not directly use it.\n",
            "  warnings.warn(\"DataFrame constructor is internal. Do not directly use it.\")\n",
            "[Stage 323:==============================================>      (109 + 8) / 124]\r"
          ]
        },
        {
          "name": "stdout",
          "output_type": "stream",
          "text": [
            "+-------+------------------+\n",
            "|     id|          pagerank|\n",
            "+-------+------------------+\n",
            "|3434750| 9917.889528786583|\n",
            "|  10568| 5387.609470096127|\n",
            "|  32927| 5284.298441243094|\n",
            "|  30680| 5130.386005836191|\n",
            "|5843419| 4959.648354746545|\n",
            "|  68253| 4771.279909629092|\n",
            "|  31717| 4488.233081199124|\n",
            "|  11867| 4148.154882176615|\n",
            "|  14533|3998.1437395714406|\n",
            "| 645042| 3533.109297540146|\n",
            "|  17867|3247.4607632514617|\n",
            "|5042916|2993.2014451081495|\n",
            "|4689264| 2983.576551154407|\n",
            "|  14532| 2935.978529024248|\n",
            "|  25391| 2904.764828582977|\n",
            "|   5405| 2892.629843363033|\n",
            "|4764461| 2835.556558193232|\n",
            "|  15573|2785.0334936159047|\n",
            "|   9316| 2783.207255728695|\n",
            "|8569916| 2776.450966760945|\n",
            "+-------+------------------+\n",
            "only showing top 20 rows\n",
            "\n"
          ]
        },
        {
          "name": "stderr",
          "output_type": "stream",
          "text": [
            "                                                                                \r"
          ]
        }
      ],
      "source": [
        "t_start = time()\n",
        "pages_links = parquetFile.select (\"id\",\"anchor_text\").rdd\n",
        "# construct the graph\n",
        "edges, vertices = generate_graph(pages_links)\n",
        "# compute PageRank\n",
        "edgesDF = edges.toDF(['src', 'dst']).repartition(124, 'src')\n",
        "verticesDF = vertices.toDF(['id']).repartition(124, 'id')\n",
        "g = GraphFrame(verticesDF, edgesDF)\n",
        "pr_results = g.pageRank(resetProbability=0.15, maxIter=6)\n",
        "pr = pr_results.vertices.select(\"id\", \"pagerank\")\n",
        "pr = pr.sort(col('pagerank').desc())\n",
        "pr.repartition(1).write.csv(f'gs://{bucket_name}/pr', compression=\"gzip\")\n",
        "pr_time = time() - t_start\n",
        "pr.show()"
      ]
    },
    {
      "cell_type": "code",
      "execution_count": null,
      "id": "f7717604",
      "metadata": {
        "id": "f7717604",
        "nbgrader": {
          "grade": true,
          "grade_id": "cell-PageRank_time",
          "locked": true,
          "points": 10,
          "schema_version": 3,
          "solution": false,
          "task": false
        }
      },
      "outputs": [],
      "source": [
        "# test that PageRank computaion took less than 2 hour\n",
        "assert pr_time < 2*60*60"
      ]
    },
    {
      "cell_type": "markdown",
      "id": "96e9a610",
      "metadata": {
        "id": "96e9a610"
      },
      "source": [
        "# Reporting"
      ]
    },
    {
      "cell_type": "markdown",
      "id": "a1da57c7",
      "metadata": {
        "id": "a1da57c7"
      },
      "source": [
        "**YOUR TASK (5 points):** execute and complete the following lines to complete\n",
        "the reporting requirements for assignment #3."
      ]
    },
    {
      "cell_type": "code",
      "execution_count": null,
      "id": "0f0d5523",
      "metadata": {
        "id": "0f0d5523",
        "nbgrader": {
          "grade": false,
          "grade_id": "cell-size_ofi_input_data",
          "locked": true,
          "schema_version": 3,
          "solution": false,
          "task": false
        },
        "outputId": "54595c29-4ae3-4b78-86d0-d8457ae9c150"
      },
      "outputs": [
        {
          "name": "stdout",
          "output_type": "stream",
          "text": [
            "14.28 GiB    gs://wikidata_preprocessed\r\n"
          ]
        }
      ],
      "source": [
        "# size of input data\n",
        "!gsutil du -sh \"gs://wikidata_preprocessed/\""
      ]
    },
    {
      "cell_type": "code",
      "execution_count": null,
      "id": "ce25a98a",
      "metadata": {
        "id": "ce25a98a",
        "nbgrader": {
          "grade": false,
          "grade_id": "cell-size_of_index_data",
          "locked": true,
          "schema_version": 3,
          "solution": false,
          "task": false
        },
        "outputId": "44d9721a-1cd7-4e59-9f78-5439864cfdad"
      },
      "outputs": [
        {
          "name": "stdout",
          "output_type": "stream",
          "text": [
            "5.92 GiB     gs://ehzor324/postings_gcp\r\n"
          ]
        }
      ],
      "source": [
        "# size of index data\n",
        "index_dst = f'gs://{bucket_name}/postings_gcp/'\n",
        "!gsutil du -sh \"$index_dst\""
      ]
    }
  ],
  "metadata": {
    "celltoolbar": "Create Assignment",
    "colab": {
      "provenance": []
    },
    "kernelspec": {
      "display_name": "PySpark",
      "language": "python",
      "name": "pyspark"
    },
    "language_info": {
      "codemirror_mode": {
        "name": "ipython",
        "version": 3
      },
      "file_extension": ".py",
      "mimetype": "text/x-python",
      "name": "python",
      "nbconvert_exporter": "python",
      "pygments_lexer": "ipython3",
      "version": "3.10.8"
    }
  },
  "nbformat": 4,
  "nbformat_minor": 5
}